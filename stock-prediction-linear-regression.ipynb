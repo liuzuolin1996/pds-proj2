{
 "cells": [
  {
   "cell_type": "code",
   "execution_count": 1,
   "metadata": {
    "_cell_guid": "b1076dfc-b9ad-4769-8c92-a6c4dae69d19",
    "_uuid": "8f2839f25d086af736a60e9eeb907d3b93b6e0e5"
   },
   "outputs": [
    {
     "name": "stdout",
     "output_type": "stream",
     "text": [
      "['.ipynb_checkpoints', '20010-Lionel-Enrol-ITIL Jun.pdf', '20010-Lionel-Quote-ITIL Jun.pdf', '20010-Lionel-Quote-ITIL Jun_signed.pdf', 'APPLICATION_FOR_SMU_ADMINISTERED_FINANCIAL_ASSISTANCE_SCHEMES.pdf', 'Assignment 5', 'Capture.JPG', 'Cheng Mun Choong LOA.pdf', 'Cisco Webex Meetings.lnk', 'CMUMachineLearningInPractice', 'CMUPracticalDataScience', 'Combined_Doc.pdf', 'Consulting', 'contract.pdf', 'DA  Liew Seng Loon', 'dad income tax.pdf', 'dad last yr income tax.pdf', 'data sci notes.txt', 'desktop.ini', 'Dropbox.lnk', 'eFootball PES 2020.url', 'ER-stencil.vss', 'Exchange stuff', 'Financial application', 'Git FYP', 'GitHub Desktop.lnk', 'Hackathon', 'Homework #5a Spring 20.docx', 'Homework #6  Sp20.docx', 'ICPhoto', 'Internship planning sheet.xlsx', 'interview prep.docx', 'intro psych notes.txt', 'IPrep', 'IPREP Request for funding for technical course form (Lionel Ng).pdf', 'katalon - Shortcut.lnk', 'Learn_Java', 'Lionel Modules Planning.xlsx', 'LOA for Number Port.pdf', 'Module description', 'NordLocker.appref-ms', 'NTUC CAPM', 'Pass key', 'Postman.lnk', 'Project', 'Protected folder.locker', 'resignation letter.pdf', 'Resume', 'Salesforce', 'Scholarship Application', 'School resources', 'SIS Related stuff', 'Spotify.lnk', 'stock-prediction-linear-regression.ipynb', 'Student Resource_ Introduction to Big Data_ Wiley Certified Data Analyst for GIA.html', 'Tech&Biz reading resources', 'Telegram.lnk', 'temp', 'Transcript', 'Visual Studio Code.lnk', 'Visualisation Project (JTC)', 'Weekly Partner Statement - 2020-W01-merged.pdf', 'WhatsApp Image 2020-04-21 at 12.06.09 PM.jpeg', 'WhatsApp.lnk', 'Wiley Data Analyst Couse', 'zehong_cpg.pdf', 'zehong_NOA.pdf', '~$ Analytical Comparison of the persuasiveness of Kirsten Asher.docx', '~$exchange budget.xlsx', '~$ps for assignment 3.docx', '~$S ideas.docx', '~$signment 3.docx', '~$SLIMS 2018.xlsx']\n"
     ]
    }
   ],
   "source": [
    "import numpy as np \n",
    "import pandas as pd\n",
    "import matplotlib.pyplot as plt\n",
    "from datetime import datetime as dt\n",
    "\n",
    "import os\n",
    "print(os.listdir())"
   ]
  },
  {
   "cell_type": "code",
   "execution_count": 2,
   "metadata": {
    "_cell_guid": "79c7e3d0-c299-4dcb-8224-4455121ee9b0",
    "_uuid": "d629ff2d2480ee46fbb7e2d37f6b5fab8052498a"
   },
   "outputs": [],
   "source": [
    "df = pd.read_csv('CMUPracticalDataScience/Project/prices.csv') "
   ]
  },
  {
   "cell_type": "code",
   "execution_count": 3,
   "metadata": {
    "_uuid": "4f3f24f4b784767d2ad458772c70fdb329d56b49"
   },
   "outputs": [
    {
     "name": "stdout",
     "output_type": "stream",
     "text": [
      "(1762, 6)\n"
     ]
    },
    {
     "data": {
      "text/html": [
       "<div>\n",
       "<style scoped>\n",
       "    .dataframe tbody tr th:only-of-type {\n",
       "        vertical-align: middle;\n",
       "    }\n",
       "\n",
       "    .dataframe tbody tr th {\n",
       "        vertical-align: top;\n",
       "    }\n",
       "\n",
       "    .dataframe thead th {\n",
       "        text-align: right;\n",
       "    }\n",
       "</style>\n",
       "<table border=\"1\" class=\"dataframe\">\n",
       "  <thead>\n",
       "    <tr style=\"text-align: right;\">\n",
       "      <th></th>\n",
       "      <th>date</th>\n",
       "      <th>open</th>\n",
       "      <th>close</th>\n",
       "      <th>low</th>\n",
       "      <th>high</th>\n",
       "      <th>volume</th>\n",
       "    </tr>\n",
       "  </thead>\n",
       "  <tbody>\n",
       "    <tr>\n",
       "      <th>440</th>\n",
       "      <td>2010-01-04</td>\n",
       "      <td>626.950006</td>\n",
       "      <td>626.750011</td>\n",
       "      <td>624.240011</td>\n",
       "      <td>629.510005</td>\n",
       "      <td>3908400.0</td>\n",
       "    </tr>\n",
       "    <tr>\n",
       "      <th>908</th>\n",
       "      <td>2010-01-05</td>\n",
       "      <td>627.180001</td>\n",
       "      <td>623.990017</td>\n",
       "      <td>621.540016</td>\n",
       "      <td>627.839984</td>\n",
       "      <td>6003300.0</td>\n",
       "    </tr>\n",
       "    <tr>\n",
       "      <th>1376</th>\n",
       "      <td>2010-01-06</td>\n",
       "      <td>625.860033</td>\n",
       "      <td>608.260035</td>\n",
       "      <td>606.360021</td>\n",
       "      <td>625.860033</td>\n",
       "      <td>7949400.0</td>\n",
       "    </tr>\n",
       "    <tr>\n",
       "      <th>1844</th>\n",
       "      <td>2010-01-07</td>\n",
       "      <td>609.400008</td>\n",
       "      <td>594.100015</td>\n",
       "      <td>592.649990</td>\n",
       "      <td>609.999993</td>\n",
       "      <td>12815700.0</td>\n",
       "    </tr>\n",
       "    <tr>\n",
       "      <th>2312</th>\n",
       "      <td>2010-01-08</td>\n",
       "      <td>592.000005</td>\n",
       "      <td>602.020005</td>\n",
       "      <td>589.110015</td>\n",
       "      <td>603.250036</td>\n",
       "      <td>9439100.0</td>\n",
       "    </tr>\n",
       "  </tbody>\n",
       "</table>\n",
       "</div>"
      ],
      "text/plain": [
       "            date        open       close         low        high      volume\n",
       "440   2010-01-04  626.950006  626.750011  624.240011  629.510005   3908400.0\n",
       "908   2010-01-05  627.180001  623.990017  621.540016  627.839984   6003300.0\n",
       "1376  2010-01-06  625.860033  608.260035  606.360021  625.860033   7949400.0\n",
       "1844  2010-01-07  609.400008  594.100015  592.649990  609.999993  12815700.0\n",
       "2312  2010-01-08  592.000005  602.020005  589.110015  603.250036   9439100.0"
      ]
     },
     "execution_count": 3,
     "metadata": {},
     "output_type": "execute_result"
    }
   ],
   "source": [
    "df = df.loc[df['symbol']=='GOOGL']\n",
    "df.drop('symbol', axis=1, inplace=True)\n",
    "print(np.shape(df))\n",
    "df.head()"
   ]
  },
  {
   "cell_type": "code",
   "execution_count": 4,
   "metadata": {
    "_uuid": "f65da9ccf67faa0de2c9d71a840d467e92004630"
   },
   "outputs": [
    {
     "data": {
      "text/html": [
       "<div>\n",
       "<style scoped>\n",
       "    .dataframe tbody tr th:only-of-type {\n",
       "        vertical-align: middle;\n",
       "    }\n",
       "\n",
       "    .dataframe tbody tr th {\n",
       "        vertical-align: top;\n",
       "    }\n",
       "\n",
       "    .dataframe thead th {\n",
       "        text-align: right;\n",
       "    }\n",
       "</style>\n",
       "<table border=\"1\" class=\"dataframe\">\n",
       "  <thead>\n",
       "    <tr style=\"text-align: right;\">\n",
       "      <th></th>\n",
       "      <th>open</th>\n",
       "      <th>close</th>\n",
       "      <th>low</th>\n",
       "      <th>high</th>\n",
       "      <th>volume</th>\n",
       "    </tr>\n",
       "    <tr>\n",
       "      <th>date</th>\n",
       "      <th></th>\n",
       "      <th></th>\n",
       "      <th></th>\n",
       "      <th></th>\n",
       "      <th></th>\n",
       "    </tr>\n",
       "  </thead>\n",
       "  <tbody>\n",
       "    <tr>\n",
       "      <th>2010-01-04</th>\n",
       "      <td>626.950006</td>\n",
       "      <td>626.750011</td>\n",
       "      <td>624.240011</td>\n",
       "      <td>629.510005</td>\n",
       "      <td>3908400.0</td>\n",
       "    </tr>\n",
       "    <tr>\n",
       "      <th>2010-01-05</th>\n",
       "      <td>627.180001</td>\n",
       "      <td>623.990017</td>\n",
       "      <td>621.540016</td>\n",
       "      <td>627.839984</td>\n",
       "      <td>6003300.0</td>\n",
       "    </tr>\n",
       "    <tr>\n",
       "      <th>2010-01-06</th>\n",
       "      <td>625.860033</td>\n",
       "      <td>608.260035</td>\n",
       "      <td>606.360021</td>\n",
       "      <td>625.860033</td>\n",
       "      <td>7949400.0</td>\n",
       "    </tr>\n",
       "    <tr>\n",
       "      <th>2010-01-07</th>\n",
       "      <td>609.400008</td>\n",
       "      <td>594.100015</td>\n",
       "      <td>592.649990</td>\n",
       "      <td>609.999993</td>\n",
       "      <td>12815700.0</td>\n",
       "    </tr>\n",
       "    <tr>\n",
       "      <th>2010-01-08</th>\n",
       "      <td>592.000005</td>\n",
       "      <td>602.020005</td>\n",
       "      <td>589.110015</td>\n",
       "      <td>603.250036</td>\n",
       "      <td>9439100.0</td>\n",
       "    </tr>\n",
       "  </tbody>\n",
       "</table>\n",
       "</div>"
      ],
      "text/plain": [
       "                  open       close         low        high      volume\n",
       "date                                                                  \n",
       "2010-01-04  626.950006  626.750011  624.240011  629.510005   3908400.0\n",
       "2010-01-05  627.180001  623.990017  621.540016  627.839984   6003300.0\n",
       "2010-01-06  625.860033  608.260035  606.360021  625.860033   7949400.0\n",
       "2010-01-07  609.400008  594.100015  592.649990  609.999993  12815700.0\n",
       "2010-01-08  592.000005  602.020005  589.110015  603.250036   9439100.0"
      ]
     },
     "execution_count": 4,
     "metadata": {},
     "output_type": "execute_result"
    }
   ],
   "source": [
    "# changing the index to date\n",
    "\n",
    "df['date'] = pd.to_datetime(df['date'])\n",
    "df = df.set_index('date')\n",
    "\n",
    "df.head()"
   ]
  },
  {
   "cell_type": "code",
   "execution_count": 5,
   "metadata": {
    "_uuid": "2ae12b67fe7ae120255117efa9b96bebd000b3ed"
   },
   "outputs": [
    {
     "data": {
      "text/plain": [
       "open      0\n",
       "close     0\n",
       "low       0\n",
       "high      0\n",
       "volume    0\n",
       "dtype: int64"
      ]
     },
     "execution_count": 5,
     "metadata": {},
     "output_type": "execute_result"
    }
   ],
   "source": [
    "# finding NaNs\n",
    "\n",
    "df.dropna(axis=0 , inplace=True)\n",
    "df.isna().sum()"
   ]
  },
  {
   "cell_type": "code",
   "execution_count": 6,
   "metadata": {
    "_uuid": "1c6fed75ef050f8a011f40e41fa4239c08048c3d"
   },
   "outputs": [
    {
     "name": "stdout",
     "output_type": "stream",
     "text": [
      "First date is 2010-01-04 00:00:00\n",
      "Last date is 2016-12-30 00:00:00\n",
      "2552 days 00:00:00\n"
     ]
    }
   ],
   "source": [
    "Min_date = df.index.min()\n",
    "Max_date = df.index.max()\n",
    "print (\"First date is\",Min_date)\n",
    "print (\"Last date is\",Max_date)\n",
    "print (Max_date - Min_date)"
   ]
  },
  {
   "cell_type": "markdown",
   "metadata": {
    "_uuid": "17ce6b8ae38ac34990ebb5b5abbb25cbc61354c8"
   },
   "source": [
    "### Linear Regression"
   ]
  },
  {
   "cell_type": "code",
   "execution_count": 7,
   "metadata": {
    "_uuid": "b14434f837b67ca737ecebe586cd093a649a5152"
   },
   "outputs": [],
   "source": [
    "from sklearn.linear_model import LinearRegression\n",
    "from sklearn import preprocessing\n",
    "from sklearn.model_selection import train_test_split"
   ]
  },
  {
   "cell_type": "code",
   "execution_count": 8,
   "metadata": {
    "_uuid": "5f4e90ddabd17f20e52bde8548eb29dcd4273f83"
   },
   "outputs": [
    {
     "name": "stdout",
     "output_type": "stream",
     "text": [
      "(1762, 6)\n"
     ]
    }
   ],
   "source": [
    "# Creating new column \n",
    "num = 20 # forcasting 20 days ahead\n",
    "df['label'] = df['close'].shift(-num) # forcasting close column\n",
    "                                     \n",
    "print(df.shape)"
   ]
  },
  {
   "cell_type": "code",
   "execution_count": 9,
   "metadata": {
    "_uuid": "41ef0b0393d220ca7e9c7daeea2d9b8f3264cd16"
   },
   "outputs": [
    {
     "name": "stdout",
     "output_type": "stream",
     "text": [
      "(1742, 5) (1742,)\n"
     ]
    }
   ],
   "source": [
    "Data = df.drop(['label'],axis=1)\n",
    "X = Data.values\n",
    "X = preprocessing.scale(X)\n",
    "X = X[:-num]\n",
    "\n",
    "df.dropna(inplace=True)\n",
    "Target = df.label\n",
    "y = Target.values\n",
    "\n",
    "print(np.shape(X), np.shape(y))"
   ]
  },
  {
   "cell_type": "code",
   "execution_count": 10,
   "metadata": {
    "_uuid": "e27b1618a66e94aa339db0a4f3242d3d3af2683a"
   },
   "outputs": [],
   "source": [
    "X_train, X_test, y_train, y_test = train_test_split(X, y, test_size=0.3)"
   ]
  },
  {
   "cell_type": "code",
   "execution_count": 11,
   "metadata": {
    "_uuid": "d904bb47468d440b1ab93b9be81dfe74aba06714"
   },
   "outputs": [
    {
     "data": {
      "text/plain": [
       "0.7947476579913993"
      ]
     },
     "execution_count": 11,
     "metadata": {},
     "output_type": "execute_result"
    }
   ],
   "source": [
    "lr = LinearRegression()\n",
    "lr.fit(X_train, y_train)\n",
    "lr.score(X_test , y_test) #Returns the coefficient of determination R^2 of the prediction"
   ]
  },
  {
   "cell_type": "code",
   "execution_count": 12,
   "metadata": {
    "_uuid": "8c08975d609eb08d163c8a9cfcd5a13e0924ce28"
   },
   "outputs": [
    {
     "name": "stdout",
     "output_type": "stream",
     "text": [
      "[772.46029662 776.76259829 793.35023344 802.3625318  789.80743389\n",
      " 740.39148991 757.93414227 729.48761995 770.48161489 773.47022051\n",
      " 779.35746224 762.74061384 778.95751157 776.02446198 762.68364516\n",
      " 773.44132358 779.97403189 781.66707385 759.2237947  742.42228039]\n"
     ]
    }
   ],
   "source": [
    "# Prediction \n",
    "\n",
    "X_Predict = X[-num:]\n",
    "Forecast = lr.predict(X_Predict)\n",
    "print(Forecast)"
   ]
  },
  {
   "cell_type": "markdown",
   "metadata": {
    "_uuid": "0bc3850cedac7ce9c7adeec0a2abda2633584eb1"
   },
   "source": [
    "### Plotting the results"
   ]
  },
  {
   "cell_type": "code",
   "execution_count": 13,
   "metadata": {
    "_uuid": "7fe753fc025069fd435ef4ac5b52f9615b9594f5"
   },
   "outputs": [
    {
     "name": "stdout",
     "output_type": "stream",
     "text": [
      "2016-12-01T00:00:00.000000000\n"
     ]
    }
   ],
   "source": [
    "Date = np.array(df.index) \n",
    "last_Date = Date[len(Date)-1]\n",
    "print(last_Date)"
   ]
  },
  {
   "cell_type": "code",
   "execution_count": 14,
   "metadata": {
    "_uuid": "79279a2d5d79d1c93649617a9babe0d3d72d33ac"
   },
   "outputs": [
    {
     "data": {
      "text/plain": [
       "DatetimeIndex(['2016-12-02', '2016-12-03', '2016-12-04', '2016-12-05',\n",
       "               '2016-12-06', '2016-12-07', '2016-12-08', '2016-12-09',\n",
       "               '2016-12-10', '2016-12-11', '2016-12-12', '2016-12-13',\n",
       "               '2016-12-14', '2016-12-15', '2016-12-16', '2016-12-17',\n",
       "               '2016-12-18', '2016-12-19', '2016-12-20', '2016-12-21'],\n",
       "              dtype='datetime64[ns]', freq='D')"
      ]
     },
     "execution_count": 14,
     "metadata": {},
     "output_type": "execute_result"
    }
   ],
   "source": [
    "# creating timeserie from the last date\n",
    "\n",
    "trange = pd.date_range('2016-12-2', periods=num, freq='d')\n",
    "trange"
   ]
  },
  {
   "cell_type": "code",
   "execution_count": 15,
   "metadata": {
    "_uuid": "d38d21397f97c38c9e146eb9ad5f1a537c1e908f"
   },
   "outputs": [
    {
     "data": {
      "text/html": [
       "<div>\n",
       "<style scoped>\n",
       "    .dataframe tbody tr th:only-of-type {\n",
       "        vertical-align: middle;\n",
       "    }\n",
       "\n",
       "    .dataframe tbody tr th {\n",
       "        vertical-align: top;\n",
       "    }\n",
       "\n",
       "    .dataframe thead th {\n",
       "        text-align: right;\n",
       "    }\n",
       "</style>\n",
       "<table border=\"1\" class=\"dataframe\">\n",
       "  <thead>\n",
       "    <tr style=\"text-align: right;\">\n",
       "      <th></th>\n",
       "      <th>forecast</th>\n",
       "    </tr>\n",
       "  </thead>\n",
       "  <tbody>\n",
       "    <tr>\n",
       "      <th>2016-12-02</th>\n",
       "      <td>772.460297</td>\n",
       "    </tr>\n",
       "    <tr>\n",
       "      <th>2016-12-03</th>\n",
       "      <td>776.762598</td>\n",
       "    </tr>\n",
       "    <tr>\n",
       "      <th>2016-12-04</th>\n",
       "      <td>793.350233</td>\n",
       "    </tr>\n",
       "    <tr>\n",
       "      <th>2016-12-05</th>\n",
       "      <td>802.362532</td>\n",
       "    </tr>\n",
       "    <tr>\n",
       "      <th>2016-12-06</th>\n",
       "      <td>789.807434</td>\n",
       "    </tr>\n",
       "    <tr>\n",
       "      <th>2016-12-07</th>\n",
       "      <td>740.391490</td>\n",
       "    </tr>\n",
       "    <tr>\n",
       "      <th>2016-12-08</th>\n",
       "      <td>757.934142</td>\n",
       "    </tr>\n",
       "    <tr>\n",
       "      <th>2016-12-09</th>\n",
       "      <td>729.487620</td>\n",
       "    </tr>\n",
       "    <tr>\n",
       "      <th>2016-12-10</th>\n",
       "      <td>770.481615</td>\n",
       "    </tr>\n",
       "    <tr>\n",
       "      <th>2016-12-11</th>\n",
       "      <td>773.470221</td>\n",
       "    </tr>\n",
       "    <tr>\n",
       "      <th>2016-12-12</th>\n",
       "      <td>779.357462</td>\n",
       "    </tr>\n",
       "    <tr>\n",
       "      <th>2016-12-13</th>\n",
       "      <td>762.740614</td>\n",
       "    </tr>\n",
       "    <tr>\n",
       "      <th>2016-12-14</th>\n",
       "      <td>778.957512</td>\n",
       "    </tr>\n",
       "    <tr>\n",
       "      <th>2016-12-15</th>\n",
       "      <td>776.024462</td>\n",
       "    </tr>\n",
       "    <tr>\n",
       "      <th>2016-12-16</th>\n",
       "      <td>762.683645</td>\n",
       "    </tr>\n",
       "    <tr>\n",
       "      <th>2016-12-17</th>\n",
       "      <td>773.441324</td>\n",
       "    </tr>\n",
       "    <tr>\n",
       "      <th>2016-12-18</th>\n",
       "      <td>779.974032</td>\n",
       "    </tr>\n",
       "    <tr>\n",
       "      <th>2016-12-19</th>\n",
       "      <td>781.667074</td>\n",
       "    </tr>\n",
       "    <tr>\n",
       "      <th>2016-12-20</th>\n",
       "      <td>759.223795</td>\n",
       "    </tr>\n",
       "    <tr>\n",
       "      <th>2016-12-21</th>\n",
       "      <td>742.422280</td>\n",
       "    </tr>\n",
       "  </tbody>\n",
       "</table>\n",
       "</div>"
      ],
      "text/plain": [
       "              forecast\n",
       "2016-12-02  772.460297\n",
       "2016-12-03  776.762598\n",
       "2016-12-04  793.350233\n",
       "2016-12-05  802.362532\n",
       "2016-12-06  789.807434\n",
       "2016-12-07  740.391490\n",
       "2016-12-08  757.934142\n",
       "2016-12-09  729.487620\n",
       "2016-12-10  770.481615\n",
       "2016-12-11  773.470221\n",
       "2016-12-12  779.357462\n",
       "2016-12-13  762.740614\n",
       "2016-12-14  778.957512\n",
       "2016-12-15  776.024462\n",
       "2016-12-16  762.683645\n",
       "2016-12-17  773.441324\n",
       "2016-12-18  779.974032\n",
       "2016-12-19  781.667074\n",
       "2016-12-20  759.223795\n",
       "2016-12-21  742.422280"
      ]
     },
     "execution_count": 15,
     "metadata": {},
     "output_type": "execute_result"
    }
   ],
   "source": [
    "# Adding the predicted values to dateframe\n",
    "Predict_df = pd.DataFrame(Forecast, index=trange)\n",
    "Predict_df.columns = ['forecast']\n",
    "Predict_df"
   ]
  }
 ],
 "metadata": {
  "kernelspec": {
   "display_name": "Python 3",
   "language": "python",
   "name": "python3"
  },
  "language_info": {
   "codemirror_mode": {
    "name": "ipython",
    "version": 3
   },
   "file_extension": ".py",
   "mimetype": "text/x-python",
   "name": "python",
   "nbconvert_exporter": "python",
   "pygments_lexer": "ipython3",
   "version": "3.7.4"
  }
 },
 "nbformat": 4,
 "nbformat_minor": 4
}
