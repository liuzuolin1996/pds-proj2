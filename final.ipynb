{
 "cells": [
  {
   "cell_type": "markdown",
   "metadata": {},
   "source": [
    "<h1>Practical Data Science Project 2</h1>\n",
    "<h3>Done by Lionel Ng & Zuo Lin</h3>\n",
    "<br>\n",
    "<p>The goal of our project is to use the historical prices of S&P companies under the New York Stock Exchange to identify undervalued stocks using prediction machine learning algorithms such as regression and LSTM (best algorithm to be determined after exploration). This task is heavily related to the finance domain, which the both of us are highly interested in. We wish to harness the power of machine learning to bring value to financial institutions and investors by building a model that is highly effective in identifying any potential stocks to invest in. The T P E for our project is:</p>\n",
    "\n",
    "T  To identify undervalued stocks with high investment potential\n",
    "<br>\n",
    "P Overall investment gains when compared to real time data\n",
    "<br>\n",
    "E Using fundamentals about the firms such as Net Cash Flow, Liabilities, Long term debt & etc as well as historical prices\n",
    "    \n",
    "<b>Our approach:</b>\n",
    "\n",
    "\n",
    "<b>Key results found:</b>\n",
    "\n",
    "<b>Assumptions made:</b>"
   ]
  },
  {
   "cell_type": "code",
   "execution_count": 1,
   "metadata": {
    "_cell_guid": "b1076dfc-b9ad-4769-8c92-a6c4dae69d19",
    "_uuid": "8f2839f25d086af736a60e9eeb907d3b93b6e0e5"
   },
   "outputs": [],
   "source": [
    "import numpy as np \n",
    "import pandas as pd\n",
    "import matplotlib.pyplot as plt\n",
    "import seaborn as sns\n",
    "from datetime import datetime as dt\n",
    "import os\n",
    "\n",
    "np.warnings.filterwarnings('ignore')\n"
   ]
  },
  {
   "cell_type": "code",
   "execution_count": 2,
   "metadata": {
    "_cell_guid": "79c7e3d0-c299-4dcb-8224-4455121ee9b0",
    "_uuid": "d629ff2d2480ee46fbb7e2d37f6b5fab8052498a"
   },
   "outputs": [],
   "source": [
    "df = pd.read_csv('data/prices-split-adjusted.csv')\n",
    "df2 = pd.read_csv('data/securities.csv')\n",
    "df3 = pd.read_csv('data/fundamentals.csv')"
   ]
  },
  {
   "cell_type": "code",
   "execution_count": 3,
   "metadata": {},
   "outputs": [
    {
     "data": {
      "text/html": [
       "<div>\n",
       "<style scoped>\n",
       "    .dataframe tbody tr th:only-of-type {\n",
       "        vertical-align: middle;\n",
       "    }\n",
       "\n",
       "    .dataframe tbody tr th {\n",
       "        vertical-align: top;\n",
       "    }\n",
       "\n",
       "    .dataframe thead th {\n",
       "        text-align: right;\n",
       "    }\n",
       "</style>\n",
       "<table border=\"1\" class=\"dataframe\">\n",
       "  <thead>\n",
       "    <tr style=\"text-align: right;\">\n",
       "      <th></th>\n",
       "      <th>date</th>\n",
       "      <th>open</th>\n",
       "      <th>close</th>\n",
       "      <th>low</th>\n",
       "      <th>high</th>\n",
       "      <th>volume</th>\n",
       "    </tr>\n",
       "    <tr>\n",
       "      <th>symbol</th>\n",
       "      <th></th>\n",
       "      <th></th>\n",
       "      <th></th>\n",
       "      <th></th>\n",
       "      <th></th>\n",
       "      <th></th>\n",
       "    </tr>\n",
       "  </thead>\n",
       "  <tbody>\n",
       "    <tr>\n",
       "      <th>A</th>\n",
       "      <td>1762</td>\n",
       "      <td>1762</td>\n",
       "      <td>1762</td>\n",
       "      <td>1762</td>\n",
       "      <td>1762</td>\n",
       "      <td>1762</td>\n",
       "    </tr>\n",
       "    <tr>\n",
       "      <th>AAL</th>\n",
       "      <td>1762</td>\n",
       "      <td>1762</td>\n",
       "      <td>1762</td>\n",
       "      <td>1762</td>\n",
       "      <td>1762</td>\n",
       "      <td>1762</td>\n",
       "    </tr>\n",
       "    <tr>\n",
       "      <th>AAP</th>\n",
       "      <td>1762</td>\n",
       "      <td>1762</td>\n",
       "      <td>1762</td>\n",
       "      <td>1762</td>\n",
       "      <td>1762</td>\n",
       "      <td>1762</td>\n",
       "    </tr>\n",
       "    <tr>\n",
       "      <th>AAPL</th>\n",
       "      <td>1762</td>\n",
       "      <td>1762</td>\n",
       "      <td>1762</td>\n",
       "      <td>1762</td>\n",
       "      <td>1762</td>\n",
       "      <td>1762</td>\n",
       "    </tr>\n",
       "    <tr>\n",
       "      <th>ABBV</th>\n",
       "      <td>1008</td>\n",
       "      <td>1008</td>\n",
       "      <td>1008</td>\n",
       "      <td>1008</td>\n",
       "      <td>1008</td>\n",
       "      <td>1008</td>\n",
       "    </tr>\n",
       "    <tr>\n",
       "      <th>...</th>\n",
       "      <td>...</td>\n",
       "      <td>...</td>\n",
       "      <td>...</td>\n",
       "      <td>...</td>\n",
       "      <td>...</td>\n",
       "      <td>...</td>\n",
       "    </tr>\n",
       "    <tr>\n",
       "      <th>YHOO</th>\n",
       "      <td>1762</td>\n",
       "      <td>1762</td>\n",
       "      <td>1762</td>\n",
       "      <td>1762</td>\n",
       "      <td>1762</td>\n",
       "      <td>1762</td>\n",
       "    </tr>\n",
       "    <tr>\n",
       "      <th>YUM</th>\n",
       "      <td>1762</td>\n",
       "      <td>1762</td>\n",
       "      <td>1762</td>\n",
       "      <td>1762</td>\n",
       "      <td>1762</td>\n",
       "      <td>1762</td>\n",
       "    </tr>\n",
       "    <tr>\n",
       "      <th>ZBH</th>\n",
       "      <td>1762</td>\n",
       "      <td>1762</td>\n",
       "      <td>1762</td>\n",
       "      <td>1762</td>\n",
       "      <td>1762</td>\n",
       "      <td>1762</td>\n",
       "    </tr>\n",
       "    <tr>\n",
       "      <th>ZION</th>\n",
       "      <td>1762</td>\n",
       "      <td>1762</td>\n",
       "      <td>1762</td>\n",
       "      <td>1762</td>\n",
       "      <td>1762</td>\n",
       "      <td>1762</td>\n",
       "    </tr>\n",
       "    <tr>\n",
       "      <th>ZTS</th>\n",
       "      <td>987</td>\n",
       "      <td>987</td>\n",
       "      <td>987</td>\n",
       "      <td>987</td>\n",
       "      <td>987</td>\n",
       "      <td>987</td>\n",
       "    </tr>\n",
       "  </tbody>\n",
       "</table>\n",
       "<p>501 rows × 6 columns</p>\n",
       "</div>"
      ],
      "text/plain": [
       "        date  open  close   low  high  volume\n",
       "symbol                                       \n",
       "A       1762  1762   1762  1762  1762    1762\n",
       "AAL     1762  1762   1762  1762  1762    1762\n",
       "AAP     1762  1762   1762  1762  1762    1762\n",
       "AAPL    1762  1762   1762  1762  1762    1762\n",
       "ABBV    1008  1008   1008  1008  1008    1008\n",
       "...      ...   ...    ...   ...   ...     ...\n",
       "YHOO    1762  1762   1762  1762  1762    1762\n",
       "YUM     1762  1762   1762  1762  1762    1762\n",
       "ZBH     1762  1762   1762  1762  1762    1762\n",
       "ZION    1762  1762   1762  1762  1762    1762\n",
       "ZTS      987   987    987   987   987     987\n",
       "\n",
       "[501 rows x 6 columns]"
      ]
     },
     "execution_count": 3,
     "metadata": {},
     "output_type": "execute_result"
    }
   ],
   "source": [
    "df.groupby(['symbol']).count()"
   ]
  },
  {
   "cell_type": "markdown",
   "metadata": {},
   "source": [
    "<h2>Data Exploration</h2>\n",
    "<br>\n",
    "We first started the project by doing some exploratory data analysis. Since our data has already been pre-processed into numerical variables with NA and empty fields removed, we did not have to do much pre-processing for the dataset\n"
   ]
  },
  {
   "cell_type": "code",
   "execution_count": 4,
   "metadata": {},
   "outputs": [
    {
     "data": {
      "text/html": [
       "<div>\n",
       "<style scoped>\n",
       "    .dataframe tbody tr th:only-of-type {\n",
       "        vertical-align: middle;\n",
       "    }\n",
       "\n",
       "    .dataframe tbody tr th {\n",
       "        vertical-align: top;\n",
       "    }\n",
       "\n",
       "    .dataframe thead th {\n",
       "        text-align: right;\n",
       "    }\n",
       "</style>\n",
       "<table border=\"1\" class=\"dataframe\">\n",
       "  <thead>\n",
       "    <tr style=\"text-align: right;\">\n",
       "      <th></th>\n",
       "      <th>date</th>\n",
       "      <th>symbol</th>\n",
       "      <th>open</th>\n",
       "      <th>close</th>\n",
       "      <th>low</th>\n",
       "      <th>high</th>\n",
       "      <th>volume</th>\n",
       "    </tr>\n",
       "  </thead>\n",
       "  <tbody>\n",
       "    <tr>\n",
       "      <th>0</th>\n",
       "      <td>2016-01-05</td>\n",
       "      <td>WLTW</td>\n",
       "      <td>123.430000</td>\n",
       "      <td>125.839996</td>\n",
       "      <td>122.309998</td>\n",
       "      <td>126.250000</td>\n",
       "      <td>2163600.0</td>\n",
       "    </tr>\n",
       "    <tr>\n",
       "      <th>1</th>\n",
       "      <td>2016-01-06</td>\n",
       "      <td>WLTW</td>\n",
       "      <td>125.239998</td>\n",
       "      <td>119.980003</td>\n",
       "      <td>119.940002</td>\n",
       "      <td>125.540001</td>\n",
       "      <td>2386400.0</td>\n",
       "    </tr>\n",
       "    <tr>\n",
       "      <th>2</th>\n",
       "      <td>2016-01-07</td>\n",
       "      <td>WLTW</td>\n",
       "      <td>116.379997</td>\n",
       "      <td>114.949997</td>\n",
       "      <td>114.930000</td>\n",
       "      <td>119.739998</td>\n",
       "      <td>2489500.0</td>\n",
       "    </tr>\n",
       "    <tr>\n",
       "      <th>3</th>\n",
       "      <td>2016-01-08</td>\n",
       "      <td>WLTW</td>\n",
       "      <td>115.480003</td>\n",
       "      <td>116.620003</td>\n",
       "      <td>113.500000</td>\n",
       "      <td>117.440002</td>\n",
       "      <td>2006300.0</td>\n",
       "    </tr>\n",
       "    <tr>\n",
       "      <th>4</th>\n",
       "      <td>2016-01-11</td>\n",
       "      <td>WLTW</td>\n",
       "      <td>117.010002</td>\n",
       "      <td>114.970001</td>\n",
       "      <td>114.089996</td>\n",
       "      <td>117.330002</td>\n",
       "      <td>1408600.0</td>\n",
       "    </tr>\n",
       "  </tbody>\n",
       "</table>\n",
       "</div>"
      ],
      "text/plain": [
       "         date symbol        open       close         low        high  \\\n",
       "0  2016-01-05   WLTW  123.430000  125.839996  122.309998  126.250000   \n",
       "1  2016-01-06   WLTW  125.239998  119.980003  119.940002  125.540001   \n",
       "2  2016-01-07   WLTW  116.379997  114.949997  114.930000  119.739998   \n",
       "3  2016-01-08   WLTW  115.480003  116.620003  113.500000  117.440002   \n",
       "4  2016-01-11   WLTW  117.010002  114.970001  114.089996  117.330002   \n",
       "\n",
       "      volume  \n",
       "0  2163600.0  \n",
       "1  2386400.0  \n",
       "2  2489500.0  \n",
       "3  2006300.0  \n",
       "4  1408600.0  "
      ]
     },
     "execution_count": 4,
     "metadata": {},
     "output_type": "execute_result"
    }
   ],
   "source": [
    "df.head()"
   ]
  },
  {
   "cell_type": "markdown",
   "metadata": {},
   "source": [
    "The first dataframe (df) indicates the daily prices."
   ]
  },
  {
   "cell_type": "code",
   "execution_count": 5,
   "metadata": {},
   "outputs": [
    {
     "data": {
      "text/html": [
       "<div>\n",
       "<style scoped>\n",
       "    .dataframe tbody tr th:only-of-type {\n",
       "        vertical-align: middle;\n",
       "    }\n",
       "\n",
       "    .dataframe tbody tr th {\n",
       "        vertical-align: top;\n",
       "    }\n",
       "\n",
       "    .dataframe thead th {\n",
       "        text-align: right;\n",
       "    }\n",
       "</style>\n",
       "<table border=\"1\" class=\"dataframe\">\n",
       "  <thead>\n",
       "    <tr style=\"text-align: right;\">\n",
       "      <th></th>\n",
       "      <th>open</th>\n",
       "      <th>close</th>\n",
       "      <th>low</th>\n",
       "      <th>high</th>\n",
       "      <th>volume</th>\n",
       "    </tr>\n",
       "  </thead>\n",
       "  <tbody>\n",
       "    <tr>\n",
       "      <th>count</th>\n",
       "      <td>851264.000000</td>\n",
       "      <td>851264.000000</td>\n",
       "      <td>851264.000000</td>\n",
       "      <td>851264.000000</td>\n",
       "      <td>8.512640e+05</td>\n",
       "    </tr>\n",
       "    <tr>\n",
       "      <th>mean</th>\n",
       "      <td>64.993618</td>\n",
       "      <td>65.011913</td>\n",
       "      <td>64.336541</td>\n",
       "      <td>65.639748</td>\n",
       "      <td>5.415113e+06</td>\n",
       "    </tr>\n",
       "    <tr>\n",
       "      <th>std</th>\n",
       "      <td>75.203893</td>\n",
       "      <td>75.201216</td>\n",
       "      <td>74.459518</td>\n",
       "      <td>75.906861</td>\n",
       "      <td>1.249468e+07</td>\n",
       "    </tr>\n",
       "    <tr>\n",
       "      <th>min</th>\n",
       "      <td>1.660000</td>\n",
       "      <td>1.590000</td>\n",
       "      <td>1.500000</td>\n",
       "      <td>1.810000</td>\n",
       "      <td>0.000000e+00</td>\n",
       "    </tr>\n",
       "    <tr>\n",
       "      <th>25%</th>\n",
       "      <td>31.270000</td>\n",
       "      <td>31.292776</td>\n",
       "      <td>30.940001</td>\n",
       "      <td>31.620001</td>\n",
       "      <td>1.221500e+06</td>\n",
       "    </tr>\n",
       "    <tr>\n",
       "      <th>50%</th>\n",
       "      <td>48.459999</td>\n",
       "      <td>48.480000</td>\n",
       "      <td>47.970001</td>\n",
       "      <td>48.959999</td>\n",
       "      <td>2.476250e+06</td>\n",
       "    </tr>\n",
       "    <tr>\n",
       "      <th>75%</th>\n",
       "      <td>75.120003</td>\n",
       "      <td>75.139999</td>\n",
       "      <td>74.400002</td>\n",
       "      <td>75.849998</td>\n",
       "      <td>5.222500e+06</td>\n",
       "    </tr>\n",
       "    <tr>\n",
       "      <th>max</th>\n",
       "      <td>1584.439941</td>\n",
       "      <td>1578.130005</td>\n",
       "      <td>1549.939941</td>\n",
       "      <td>1600.930054</td>\n",
       "      <td>8.596434e+08</td>\n",
       "    </tr>\n",
       "  </tbody>\n",
       "</table>\n",
       "</div>"
      ],
      "text/plain": [
       "                open          close            low           high  \\\n",
       "count  851264.000000  851264.000000  851264.000000  851264.000000   \n",
       "mean       64.993618      65.011913      64.336541      65.639748   \n",
       "std        75.203893      75.201216      74.459518      75.906861   \n",
       "min         1.660000       1.590000       1.500000       1.810000   \n",
       "25%        31.270000      31.292776      30.940001      31.620001   \n",
       "50%        48.459999      48.480000      47.970001      48.959999   \n",
       "75%        75.120003      75.139999      74.400002      75.849998   \n",
       "max      1584.439941    1578.130005    1549.939941    1600.930054   \n",
       "\n",
       "             volume  \n",
       "count  8.512640e+05  \n",
       "mean   5.415113e+06  \n",
       "std    1.249468e+07  \n",
       "min    0.000000e+00  \n",
       "25%    1.221500e+06  \n",
       "50%    2.476250e+06  \n",
       "75%    5.222500e+06  \n",
       "max    8.596434e+08  "
      ]
     },
     "execution_count": 5,
     "metadata": {},
     "output_type": "execute_result"
    }
   ],
   "source": [
    "df.describe()"
   ]
  },
  {
   "cell_type": "code",
   "execution_count": 6,
   "metadata": {},
   "outputs": [
    {
     "name": "stdout",
     "output_type": "stream",
     "text": [
      "\n",
      "number of different stocks:  501\n",
      "['TDG', 'XEL', 'LB', 'GM', 'PBI', 'SJM', 'PCAR', 'CVX', 'PAYX', 'AMGN']\n"
     ]
    }
   ],
   "source": [
    "print('\\nnumber of different stocks: ', len(list(set(df.symbol))))\n",
    "print(list(set(df.symbol))[:10])"
   ]
  },
  {
   "cell_type": "markdown",
   "metadata": {},
   "source": [
    "Based on the summary statistics, there are more than 800,000 rows of data available in the dataset, however, they are seperated to 501 stocks symbol hence the number of data was not as vast as we expected"
   ]
  },
  {
   "cell_type": "code",
   "execution_count": 7,
   "metadata": {},
   "outputs": [
    {
     "data": {
      "text/html": [
       "<div>\n",
       "<style scoped>\n",
       "    .dataframe tbody tr th:only-of-type {\n",
       "        vertical-align: middle;\n",
       "    }\n",
       "\n",
       "    .dataframe tbody tr th {\n",
       "        vertical-align: top;\n",
       "    }\n",
       "\n",
       "    .dataframe thead th {\n",
       "        text-align: right;\n",
       "    }\n",
       "</style>\n",
       "<table border=\"1\" class=\"dataframe\">\n",
       "  <thead>\n",
       "    <tr style=\"text-align: right;\">\n",
       "      <th></th>\n",
       "      <th>Ticker symbol</th>\n",
       "      <th>Security</th>\n",
       "      <th>SEC filings</th>\n",
       "      <th>GICS Sector</th>\n",
       "      <th>GICS Sub Industry</th>\n",
       "      <th>Address of Headquarters</th>\n",
       "      <th>Date first added</th>\n",
       "      <th>CIK</th>\n",
       "    </tr>\n",
       "  </thead>\n",
       "  <tbody>\n",
       "    <tr>\n",
       "      <th>0</th>\n",
       "      <td>MMM</td>\n",
       "      <td>3M Company</td>\n",
       "      <td>reports</td>\n",
       "      <td>Industrials</td>\n",
       "      <td>Industrial Conglomerates</td>\n",
       "      <td>St. Paul, Minnesota</td>\n",
       "      <td>NaN</td>\n",
       "      <td>66740</td>\n",
       "    </tr>\n",
       "    <tr>\n",
       "      <th>1</th>\n",
       "      <td>ABT</td>\n",
       "      <td>Abbott Laboratories</td>\n",
       "      <td>reports</td>\n",
       "      <td>Health Care</td>\n",
       "      <td>Health Care Equipment</td>\n",
       "      <td>North Chicago, Illinois</td>\n",
       "      <td>1964-03-31</td>\n",
       "      <td>1800</td>\n",
       "    </tr>\n",
       "    <tr>\n",
       "      <th>2</th>\n",
       "      <td>ABBV</td>\n",
       "      <td>AbbVie</td>\n",
       "      <td>reports</td>\n",
       "      <td>Health Care</td>\n",
       "      <td>Pharmaceuticals</td>\n",
       "      <td>North Chicago, Illinois</td>\n",
       "      <td>2012-12-31</td>\n",
       "      <td>1551152</td>\n",
       "    </tr>\n",
       "    <tr>\n",
       "      <th>3</th>\n",
       "      <td>ACN</td>\n",
       "      <td>Accenture plc</td>\n",
       "      <td>reports</td>\n",
       "      <td>Information Technology</td>\n",
       "      <td>IT Consulting &amp; Other Services</td>\n",
       "      <td>Dublin, Ireland</td>\n",
       "      <td>2011-07-06</td>\n",
       "      <td>1467373</td>\n",
       "    </tr>\n",
       "    <tr>\n",
       "      <th>4</th>\n",
       "      <td>ATVI</td>\n",
       "      <td>Activision Blizzard</td>\n",
       "      <td>reports</td>\n",
       "      <td>Information Technology</td>\n",
       "      <td>Home Entertainment Software</td>\n",
       "      <td>Santa Monica, California</td>\n",
       "      <td>2015-08-31</td>\n",
       "      <td>718877</td>\n",
       "    </tr>\n",
       "  </tbody>\n",
       "</table>\n",
       "</div>"
      ],
      "text/plain": [
       "  Ticker symbol             Security SEC filings             GICS Sector  \\\n",
       "0           MMM           3M Company     reports             Industrials   \n",
       "1           ABT  Abbott Laboratories     reports             Health Care   \n",
       "2          ABBV               AbbVie     reports             Health Care   \n",
       "3           ACN        Accenture plc     reports  Information Technology   \n",
       "4          ATVI  Activision Blizzard     reports  Information Technology   \n",
       "\n",
       "                GICS Sub Industry   Address of Headquarters Date first added  \\\n",
       "0        Industrial Conglomerates       St. Paul, Minnesota              NaN   \n",
       "1           Health Care Equipment   North Chicago, Illinois       1964-03-31   \n",
       "2                 Pharmaceuticals   North Chicago, Illinois       2012-12-31   \n",
       "3  IT Consulting & Other Services           Dublin, Ireland       2011-07-06   \n",
       "4     Home Entertainment Software  Santa Monica, California       2015-08-31   \n",
       "\n",
       "       CIK  \n",
       "0    66740  \n",
       "1     1800  \n",
       "2  1551152  \n",
       "3  1467373  \n",
       "4   718877  "
      ]
     },
     "execution_count": 7,
     "metadata": {},
     "output_type": "execute_result"
    }
   ],
   "source": [
    "df2.head()"
   ]
  },
  {
   "cell_type": "markdown",
   "metadata": {},
   "source": [
    "Df2 shows general description of each company with division on sectors, we believe some of the variables such as sector data could be potential features to be added based on our understanding that some industries tend to do better on the stock market"
   ]
  },
  {
   "cell_type": "code",
   "execution_count": 8,
   "metadata": {},
   "outputs": [
    {
     "data": {
      "text/html": [
       "<div>\n",
       "<style scoped>\n",
       "    .dataframe tbody tr th:only-of-type {\n",
       "        vertical-align: middle;\n",
       "    }\n",
       "\n",
       "    .dataframe tbody tr th {\n",
       "        vertical-align: top;\n",
       "    }\n",
       "\n",
       "    .dataframe thead th {\n",
       "        text-align: right;\n",
       "    }\n",
       "</style>\n",
       "<table border=\"1\" class=\"dataframe\">\n",
       "  <thead>\n",
       "    <tr style=\"text-align: right;\">\n",
       "      <th></th>\n",
       "      <th>Unnamed: 0</th>\n",
       "      <th>Ticker Symbol</th>\n",
       "      <th>Period Ending</th>\n",
       "      <th>Accounts Payable</th>\n",
       "      <th>Accounts Receivable</th>\n",
       "      <th>Add'l income/expense items</th>\n",
       "      <th>After Tax ROE</th>\n",
       "      <th>Capital Expenditures</th>\n",
       "      <th>Capital Surplus</th>\n",
       "      <th>Cash Ratio</th>\n",
       "      <th>...</th>\n",
       "      <th>Total Current Assets</th>\n",
       "      <th>Total Current Liabilities</th>\n",
       "      <th>Total Equity</th>\n",
       "      <th>Total Liabilities</th>\n",
       "      <th>Total Liabilities &amp; Equity</th>\n",
       "      <th>Total Revenue</th>\n",
       "      <th>Treasury Stock</th>\n",
       "      <th>For Year</th>\n",
       "      <th>Earnings Per Share</th>\n",
       "      <th>Estimated Shares Outstanding</th>\n",
       "    </tr>\n",
       "  </thead>\n",
       "  <tbody>\n",
       "    <tr>\n",
       "      <th>0</th>\n",
       "      <td>0</td>\n",
       "      <td>AAL</td>\n",
       "      <td>2012-12-31</td>\n",
       "      <td>3.068000e+09</td>\n",
       "      <td>-222000000.0</td>\n",
       "      <td>-1.961000e+09</td>\n",
       "      <td>23.0</td>\n",
       "      <td>-1.888000e+09</td>\n",
       "      <td>4.695000e+09</td>\n",
       "      <td>53.0</td>\n",
       "      <td>...</td>\n",
       "      <td>7.072000e+09</td>\n",
       "      <td>9.011000e+09</td>\n",
       "      <td>-7.987000e+09</td>\n",
       "      <td>2.489100e+10</td>\n",
       "      <td>1.690400e+10</td>\n",
       "      <td>2.485500e+10</td>\n",
       "      <td>-367000000.0</td>\n",
       "      <td>2012.0</td>\n",
       "      <td>-5.60</td>\n",
       "      <td>3.350000e+08</td>\n",
       "    </tr>\n",
       "    <tr>\n",
       "      <th>1</th>\n",
       "      <td>1</td>\n",
       "      <td>AAL</td>\n",
       "      <td>2013-12-31</td>\n",
       "      <td>4.975000e+09</td>\n",
       "      <td>-93000000.0</td>\n",
       "      <td>-2.723000e+09</td>\n",
       "      <td>67.0</td>\n",
       "      <td>-3.114000e+09</td>\n",
       "      <td>1.059200e+10</td>\n",
       "      <td>75.0</td>\n",
       "      <td>...</td>\n",
       "      <td>1.432300e+10</td>\n",
       "      <td>1.380600e+10</td>\n",
       "      <td>-2.731000e+09</td>\n",
       "      <td>4.500900e+10</td>\n",
       "      <td>4.227800e+10</td>\n",
       "      <td>2.674300e+10</td>\n",
       "      <td>0.0</td>\n",
       "      <td>2013.0</td>\n",
       "      <td>-11.25</td>\n",
       "      <td>1.630222e+08</td>\n",
       "    </tr>\n",
       "    <tr>\n",
       "      <th>2</th>\n",
       "      <td>2</td>\n",
       "      <td>AAL</td>\n",
       "      <td>2014-12-31</td>\n",
       "      <td>4.668000e+09</td>\n",
       "      <td>-160000000.0</td>\n",
       "      <td>-1.500000e+08</td>\n",
       "      <td>143.0</td>\n",
       "      <td>-5.311000e+09</td>\n",
       "      <td>1.513500e+10</td>\n",
       "      <td>60.0</td>\n",
       "      <td>...</td>\n",
       "      <td>1.175000e+10</td>\n",
       "      <td>1.340400e+10</td>\n",
       "      <td>2.021000e+09</td>\n",
       "      <td>4.120400e+10</td>\n",
       "      <td>4.322500e+10</td>\n",
       "      <td>4.265000e+10</td>\n",
       "      <td>0.0</td>\n",
       "      <td>2014.0</td>\n",
       "      <td>4.02</td>\n",
       "      <td>7.169154e+08</td>\n",
       "    </tr>\n",
       "    <tr>\n",
       "      <th>3</th>\n",
       "      <td>3</td>\n",
       "      <td>AAL</td>\n",
       "      <td>2015-12-31</td>\n",
       "      <td>5.102000e+09</td>\n",
       "      <td>352000000.0</td>\n",
       "      <td>-7.080000e+08</td>\n",
       "      <td>135.0</td>\n",
       "      <td>-6.151000e+09</td>\n",
       "      <td>1.159100e+10</td>\n",
       "      <td>51.0</td>\n",
       "      <td>...</td>\n",
       "      <td>9.985000e+09</td>\n",
       "      <td>1.360500e+10</td>\n",
       "      <td>5.635000e+09</td>\n",
       "      <td>4.278000e+10</td>\n",
       "      <td>4.841500e+10</td>\n",
       "      <td>4.099000e+10</td>\n",
       "      <td>0.0</td>\n",
       "      <td>2015.0</td>\n",
       "      <td>11.39</td>\n",
       "      <td>6.681299e+08</td>\n",
       "    </tr>\n",
       "    <tr>\n",
       "      <th>4</th>\n",
       "      <td>4</td>\n",
       "      <td>AAP</td>\n",
       "      <td>2012-12-29</td>\n",
       "      <td>2.409453e+09</td>\n",
       "      <td>-89482000.0</td>\n",
       "      <td>6.000000e+05</td>\n",
       "      <td>32.0</td>\n",
       "      <td>-2.711820e+08</td>\n",
       "      <td>5.202150e+08</td>\n",
       "      <td>23.0</td>\n",
       "      <td>...</td>\n",
       "      <td>3.184200e+09</td>\n",
       "      <td>2.559638e+09</td>\n",
       "      <td>1.210694e+09</td>\n",
       "      <td>3.403120e+09</td>\n",
       "      <td>4.613814e+09</td>\n",
       "      <td>6.205003e+09</td>\n",
       "      <td>-27095000.0</td>\n",
       "      <td>2012.0</td>\n",
       "      <td>5.29</td>\n",
       "      <td>7.328355e+07</td>\n",
       "    </tr>\n",
       "  </tbody>\n",
       "</table>\n",
       "<p>5 rows × 79 columns</p>\n",
       "</div>"
      ],
      "text/plain": [
       "   Unnamed: 0 Ticker Symbol Period Ending  Accounts Payable  \\\n",
       "0           0           AAL    2012-12-31      3.068000e+09   \n",
       "1           1           AAL    2013-12-31      4.975000e+09   \n",
       "2           2           AAL    2014-12-31      4.668000e+09   \n",
       "3           3           AAL    2015-12-31      5.102000e+09   \n",
       "4           4           AAP    2012-12-29      2.409453e+09   \n",
       "\n",
       "   Accounts Receivable  Add'l income/expense items  After Tax ROE  \\\n",
       "0         -222000000.0               -1.961000e+09           23.0   \n",
       "1          -93000000.0               -2.723000e+09           67.0   \n",
       "2         -160000000.0               -1.500000e+08          143.0   \n",
       "3          352000000.0               -7.080000e+08          135.0   \n",
       "4          -89482000.0                6.000000e+05           32.0   \n",
       "\n",
       "   Capital Expenditures  Capital Surplus  Cash Ratio  ...  \\\n",
       "0         -1.888000e+09     4.695000e+09        53.0  ...   \n",
       "1         -3.114000e+09     1.059200e+10        75.0  ...   \n",
       "2         -5.311000e+09     1.513500e+10        60.0  ...   \n",
       "3         -6.151000e+09     1.159100e+10        51.0  ...   \n",
       "4         -2.711820e+08     5.202150e+08        23.0  ...   \n",
       "\n",
       "   Total Current Assets  Total Current Liabilities  Total Equity  \\\n",
       "0          7.072000e+09               9.011000e+09 -7.987000e+09   \n",
       "1          1.432300e+10               1.380600e+10 -2.731000e+09   \n",
       "2          1.175000e+10               1.340400e+10  2.021000e+09   \n",
       "3          9.985000e+09               1.360500e+10  5.635000e+09   \n",
       "4          3.184200e+09               2.559638e+09  1.210694e+09   \n",
       "\n",
       "   Total Liabilities  Total Liabilities & Equity  Total Revenue  \\\n",
       "0       2.489100e+10                1.690400e+10   2.485500e+10   \n",
       "1       4.500900e+10                4.227800e+10   2.674300e+10   \n",
       "2       4.120400e+10                4.322500e+10   4.265000e+10   \n",
       "3       4.278000e+10                4.841500e+10   4.099000e+10   \n",
       "4       3.403120e+09                4.613814e+09   6.205003e+09   \n",
       "\n",
       "   Treasury Stock  For Year  Earnings Per Share  Estimated Shares Outstanding  \n",
       "0    -367000000.0    2012.0               -5.60                  3.350000e+08  \n",
       "1             0.0    2013.0              -11.25                  1.630222e+08  \n",
       "2             0.0    2014.0                4.02                  7.169154e+08  \n",
       "3             0.0    2015.0               11.39                  6.681299e+08  \n",
       "4     -27095000.0    2012.0                5.29                  7.328355e+07  \n",
       "\n",
       "[5 rows x 79 columns]"
      ]
     },
     "execution_count": 8,
     "metadata": {},
     "output_type": "execute_result"
    }
   ],
   "source": [
    "df3.head()"
   ]
  },
  {
   "cell_type": "markdown",
   "metadata": {},
   "source": [
    "Df3 are metrics extracted from annual SEC 10K fillings (2012-2016), based on research some of the variables provided are used as popular fundamental indicators for stock price analysis."
   ]
  },
  {
   "cell_type": "code",
   "execution_count": 9,
   "metadata": {},
   "outputs": [
    {
     "name": "stdout",
     "output_type": "stream",
     "text": [
      "date      0\n",
      "symbol    0\n",
      "open      0\n",
      "close     0\n",
      "low       0\n",
      "high      0\n",
      "volume    0\n",
      "dtype: int64\n"
     ]
    }
   ],
   "source": [
    "data = df\n",
    "NA_col = data.isnull().sum()\n",
    "print(NA_col)"
   ]
  },
  {
   "cell_type": "code",
   "execution_count": 10,
   "metadata": {},
   "outputs": [
    {
     "name": "stdout",
     "output_type": "stream",
     "text": [
      "Ticker symbol                0\n",
      "Security                     0\n",
      "SEC filings                  0\n",
      "GICS Sector                  0\n",
      "GICS Sub Industry            0\n",
      "Address of Headquarters      0\n",
      "Date first added           198\n",
      "CIK                          0\n",
      "dtype: int64\n"
     ]
    }
   ],
   "source": [
    "data2 = df2\n",
    "NA_col = data2.isnull().sum()\n",
    "print(NA_col)"
   ]
  },
  {
   "cell_type": "code",
   "execution_count": 11,
   "metadata": {},
   "outputs": [
    {
     "name": "stdout",
     "output_type": "stream",
     "text": [
      "Unnamed: 0                        0\n",
      "Ticker Symbol                     0\n",
      "Period Ending                     0\n",
      "Accounts Payable                  0\n",
      "Accounts Receivable               0\n",
      "                               ... \n",
      "Total Revenue                     0\n",
      "Treasury Stock                    0\n",
      "For Year                        173\n",
      "Earnings Per Share              219\n",
      "Estimated Shares Outstanding    219\n",
      "Length: 79, dtype: int64\n"
     ]
    }
   ],
   "source": [
    "data3 = df3\n",
    "NA_col = data3.isnull().sum()\n",
    "print(NA_col)"
   ]
  },
  {
   "cell_type": "markdown",
   "metadata": {},
   "source": [
    "From the 3 results, we can conclude that the amount of null results in all 3 datasets are negligible."
   ]
  },
  {
   "cell_type": "code",
   "execution_count": 12,
   "metadata": {},
   "outputs": [
    {
     "name": "stdout",
     "output_type": "stream",
     "text": [
      "            open     close       low      high    volume\n",
      "open    1.000000  0.999845  0.999914  0.999928 -0.132526\n",
      "close   0.999845  1.000000  0.999926  0.999925 -0.132675\n",
      "low     0.999914  0.999926  1.000000  0.999889 -0.133087\n",
      "high    0.999928  0.999925  0.999889  1.000000 -0.132168\n",
      "volume -0.132526 -0.132675 -0.133087 -0.132168  1.000000\n"
     ]
    }
   ],
   "source": [
    "corr = df.corr()\n",
    "print(corr)"
   ]
  },
  {
   "cell_type": "code",
   "execution_count": 13,
   "metadata": {
    "_uuid": "4f3f24f4b784767d2ad458772c70fdb329d56b49"
   },
   "outputs": [
    {
     "name": "stdout",
     "output_type": "stream",
     "text": [
      "(1762, 6)\n"
     ]
    }
   ],
   "source": [
    "df = data.loc[data['symbol']=='AAPL']\n",
    "df.drop('symbol', axis=1, inplace=True)\n",
    "print(np.shape(df))"
   ]
  },
  {
   "cell_type": "code",
   "execution_count": 14,
   "metadata": {
    "_uuid": "f65da9ccf67faa0de2c9d71a840d467e92004630"
   },
   "outputs": [
    {
     "data": {
      "text/plain": [
       "[<matplotlib.lines.Line2D at 0xd905970>]"
      ]
     },
     "execution_count": 14,
     "metadata": {},
     "output_type": "execute_result"
    },
    {
     "data": {
      "image/png": "[encoded data removed]",
      "text/plain": [
       "<Figure size 1152x576 with 1 Axes>"
      ]
     },
     "metadata": {
      "needs_background": "light"
     },
     "output_type": "display_data"
    }
   ],
   "source": [
    "# changing the index to date\n",
    "\n",
    "#setting index as date\n",
    "df['date'] = pd.to_datetime(df['date'])\n",
    "df = df.set_index('date')\n",
    "\n",
    "#plot\n",
    "plt.figure(figsize=(16,8))\n",
    "plt.plot(df['close'], label='Close Price history')"
   ]
  },
  {
   "cell_type": "markdown",
   "metadata": {},
   "source": [
    "We observed the general trend of the Apple stocks' performance from 2010 to end 2016. The general trend is an upward trend"
   ]
  },
  {
   "cell_type": "code",
   "execution_count": 15,
   "metadata": {
    "_uuid": "1c6fed75ef050f8a011f40e41fa4239c08048c3d"
   },
   "outputs": [
    {
     "name": "stdout",
     "output_type": "stream",
     "text": [
      "First date is 2010-01-04 00:00:00\n",
      "Last date is 2016-12-30 00:00:00\n",
      "2552 days 00:00:00\n"
     ]
    }
   ],
   "source": [
    "Min_date = df.index.min()\n",
    "Max_date = df.index.max()\n",
    "print (\"First date is\",Min_date)\n",
    "print (\"Last date is\",Max_date)\n",
    "print (Max_date - Min_date)"
   ]
  },
  {
   "cell_type": "markdown",
   "metadata": {},
   "source": [
    "<h2>Initial baseline model exploration</h2>\n",
    "<br>\n",
    "After our initial exploratory data analysis, we decided to explore the various algorithms we have found through our research to see the effectiveness of each baseline models. The models that we have tried are linear regression, moving average, logistic regression, ARIMA, autoregression & genetic algorithm"
   ]
  },
  {
   "cell_type": "markdown",
   "metadata": {
    "_uuid": "17ce6b8ae38ac34990ebb5b5abbb25cbc61354c8"
   },
   "source": [
    "### Linear Regression"
   ]
  },
  {
   "cell_type": "code",
   "execution_count": 16,
   "metadata": {
    "_uuid": "b14434f837b67ca737ecebe586cd093a649a5152"
   },
   "outputs": [],
   "source": [
    "from sklearn.linear_model import LinearRegression\n",
    "from sklearn import preprocessing\n",
    "from sklearn.model_selection import train_test_split"
   ]
  },
  {
   "cell_type": "code",
   "execution_count": 17,
   "metadata": {},
   "outputs": [
    {
     "name": "stdout",
     "output_type": "stream",
     "text": [
      "(1762, 6)\n"
     ]
    }
   ],
   "source": [
    "# Creating new column \n",
    "num = 30 # forcasting 30 days ahead\n",
    "df['label'] = df['close'].shift(-num) # forcasting close column\n",
    "                                     \n",
    "print(df.shape)"
   ]
  },
  {
   "cell_type": "code",
   "execution_count": 18,
   "metadata": {},
   "outputs": [
    {
     "name": "stdout",
     "output_type": "stream",
     "text": [
      "(1732, 5) (1732,)\n"
     ]
    }
   ],
   "source": [
    "Data = df.drop(['label'],axis=1)\n",
    "X = Data.values\n",
    "X = preprocessing.scale(X)\n",
    "X = X[:-num]\n",
    "\n",
    "df.dropna(inplace=True)\n",
    "Target = df.label\n",
    "y = Target.values\n",
    "\n",
    "print(np.shape(X), np.shape(y))"
   ]
  },
  {
   "cell_type": "code",
   "execution_count": 19,
   "metadata": {},
   "outputs": [],
   "source": [
    "X_train, X_test, y_train, y_test = train_test_split(X, y, test_size=0.3)"
   ]
  },
  {
   "cell_type": "code",
   "execution_count": 20,
   "metadata": {},
   "outputs": [
    {
     "data": {
      "text/plain": [
       "0.9383762748596913"
      ]
     },
     "execution_count": 20,
     "metadata": {},
     "output_type": "execute_result"
    }
   ],
   "source": [
    "lr = LinearRegression()\n",
    "lr.fit(X_train, y_train)\n",
    "lr.score(X_test , y_test) #Returns the coefficient of determination R^2 of the prediction"
   ]
  },
  {
   "cell_type": "code",
   "execution_count": 21,
   "metadata": {},
   "outputs": [
    {
     "name": "stdout",
     "output_type": "stream",
     "text": [
      "[113.14605267 113.26084895 115.84926853 115.81498022 115.86796019\n",
      " 116.05609301 115.9020986  116.32214961 115.9954721  119.00885871\n",
      " 115.87817639 115.0133235  116.0575752  115.76615879 114.17710725\n",
      " 114.27274888 113.71839847 112.85475307 113.00311932 111.27340163\n",
      " 110.79436215 110.1860137  109.60270997 111.92247121 111.35516029\n",
      " 111.46720653 109.46938495 107.98813675 107.53797887 111.35122062]\n"
     ]
    }
   ],
   "source": [
    "# Prediction \n",
    "\n",
    "X_Predict = X[-num:]\n",
    "Forecast = lr.predict(X_Predict)\n",
    "print(Forecast)"
   ]
  },
  {
   "cell_type": "markdown",
   "metadata": {
    "_uuid": "0bc3850cedac7ce9c7adeec0a2abda2633584eb1"
   },
   "source": [
    "### Plotting the results"
   ]
  },
  {
   "cell_type": "code",
   "execution_count": 22,
   "metadata": {},
   "outputs": [
    {
     "name": "stdout",
     "output_type": "stream",
     "text": [
      "2016-11-16T00:00:00.000000000\n"
     ]
    }
   ],
   "source": [
    "Date = np.array(df.index) \n",
    "last_Date = Date[len(Date)-1]\n",
    "print(last_Date)"
   ]
  },
  {
   "cell_type": "code",
   "execution_count": 23,
   "metadata": {},
   "outputs": [
    {
     "data": {
      "text/plain": [
       "DatetimeIndex(['2016-10-15', '2016-10-16', '2016-10-17', '2016-10-18',\n",
       "               '2016-10-19', '2016-10-20', '2016-10-21', '2016-10-22',\n",
       "               '2016-10-23', '2016-10-24', '2016-10-25', '2016-10-26',\n",
       "               '2016-10-27', '2016-10-28', '2016-10-29', '2016-10-30',\n",
       "               '2016-10-31', '2016-11-01', '2016-11-02', '2016-11-03',\n",
       "               '2016-11-04', '2016-11-05', '2016-11-06', '2016-11-07',\n",
       "               '2016-11-08', '2016-11-09', '2016-11-10', '2016-11-11',\n",
       "               '2016-11-12', '2016-11-13'],\n",
       "              dtype='datetime64[ns]', freq='D')"
      ]
     },
     "execution_count": 23,
     "metadata": {},
     "output_type": "execute_result"
    }
   ],
   "source": [
    "# creating timeserie from the last date\n",
    "\n",
    "trange = pd.date_range('2016-10-15', periods=num, freq='d')\n",
    "trange"
   ]
  },
  {
   "cell_type": "code",
   "execution_count": 24,
   "metadata": {},
   "outputs": [
    {
     "data": {
      "text/html": [
       "<div>\n",
       "<style scoped>\n",
       "    .dataframe tbody tr th:only-of-type {\n",
       "        vertical-align: middle;\n",
       "    }\n",
       "\n",
       "    .dataframe tbody tr th {\n",
       "        vertical-align: top;\n",
       "    }\n",
       "\n",
       "    .dataframe thead th {\n",
       "        text-align: right;\n",
       "    }\n",
       "</style>\n",
       "<table border=\"1\" class=\"dataframe\">\n",
       "  <thead>\n",
       "    <tr style=\"text-align: right;\">\n",
       "      <th></th>\n",
       "      <th>forecast</th>\n",
       "    </tr>\n",
       "  </thead>\n",
       "  <tbody>\n",
       "    <tr>\n",
       "      <th>2016-10-15</th>\n",
       "      <td>113.146053</td>\n",
       "    </tr>\n",
       "    <tr>\n",
       "      <th>2016-10-16</th>\n",
       "      <td>113.260849</td>\n",
       "    </tr>\n",
       "    <tr>\n",
       "      <th>2016-10-17</th>\n",
       "      <td>115.849269</td>\n",
       "    </tr>\n",
       "    <tr>\n",
       "      <th>2016-10-18</th>\n",
       "      <td>115.814980</td>\n",
       "    </tr>\n",
       "    <tr>\n",
       "      <th>2016-10-19</th>\n",
       "      <td>115.867960</td>\n",
       "    </tr>\n",
       "    <tr>\n",
       "      <th>2016-10-20</th>\n",
       "      <td>116.056093</td>\n",
       "    </tr>\n",
       "    <tr>\n",
       "      <th>2016-10-21</th>\n",
       "      <td>115.902099</td>\n",
       "    </tr>\n",
       "    <tr>\n",
       "      <th>2016-10-22</th>\n",
       "      <td>116.322150</td>\n",
       "    </tr>\n",
       "    <tr>\n",
       "      <th>2016-10-23</th>\n",
       "      <td>115.995472</td>\n",
       "    </tr>\n",
       "    <tr>\n",
       "      <th>2016-10-24</th>\n",
       "      <td>119.008859</td>\n",
       "    </tr>\n",
       "    <tr>\n",
       "      <th>2016-10-25</th>\n",
       "      <td>115.878176</td>\n",
       "    </tr>\n",
       "    <tr>\n",
       "      <th>2016-10-26</th>\n",
       "      <td>115.013324</td>\n",
       "    </tr>\n",
       "    <tr>\n",
       "      <th>2016-10-27</th>\n",
       "      <td>116.057575</td>\n",
       "    </tr>\n",
       "    <tr>\n",
       "      <th>2016-10-28</th>\n",
       "      <td>115.766159</td>\n",
       "    </tr>\n",
       "    <tr>\n",
       "      <th>2016-10-29</th>\n",
       "      <td>114.177107</td>\n",
       "    </tr>\n",
       "    <tr>\n",
       "      <th>2016-10-30</th>\n",
       "      <td>114.272749</td>\n",
       "    </tr>\n",
       "    <tr>\n",
       "      <th>2016-10-31</th>\n",
       "      <td>113.718398</td>\n",
       "    </tr>\n",
       "    <tr>\n",
       "      <th>2016-11-01</th>\n",
       "      <td>112.854753</td>\n",
       "    </tr>\n",
       "    <tr>\n",
       "      <th>2016-11-02</th>\n",
       "      <td>113.003119</td>\n",
       "    </tr>\n",
       "    <tr>\n",
       "      <th>2016-11-03</th>\n",
       "      <td>111.273402</td>\n",
       "    </tr>\n",
       "    <tr>\n",
       "      <th>2016-11-04</th>\n",
       "      <td>110.794362</td>\n",
       "    </tr>\n",
       "    <tr>\n",
       "      <th>2016-11-05</th>\n",
       "      <td>110.186014</td>\n",
       "    </tr>\n",
       "    <tr>\n",
       "      <th>2016-11-06</th>\n",
       "      <td>109.602710</td>\n",
       "    </tr>\n",
       "    <tr>\n",
       "      <th>2016-11-07</th>\n",
       "      <td>111.922471</td>\n",
       "    </tr>\n",
       "    <tr>\n",
       "      <th>2016-11-08</th>\n",
       "      <td>111.355160</td>\n",
       "    </tr>\n",
       "    <tr>\n",
       "      <th>2016-11-09</th>\n",
       "      <td>111.467207</td>\n",
       "    </tr>\n",
       "    <tr>\n",
       "      <th>2016-11-10</th>\n",
       "      <td>109.469385</td>\n",
       "    </tr>\n",
       "    <tr>\n",
       "      <th>2016-11-11</th>\n",
       "      <td>107.988137</td>\n",
       "    </tr>\n",
       "    <tr>\n",
       "      <th>2016-11-12</th>\n",
       "      <td>107.537979</td>\n",
       "    </tr>\n",
       "    <tr>\n",
       "      <th>2016-11-13</th>\n",
       "      <td>111.351221</td>\n",
       "    </tr>\n",
       "  </tbody>\n",
       "</table>\n",
       "</div>"
      ],
      "text/plain": [
       "              forecast\n",
       "2016-10-15  113.146053\n",
       "2016-10-16  113.260849\n",
       "2016-10-17  115.849269\n",
       "2016-10-18  115.814980\n",
       "2016-10-19  115.867960\n",
       "2016-10-20  116.056093\n",
       "2016-10-21  115.902099\n",
       "2016-10-22  116.322150\n",
       "2016-10-23  115.995472\n",
       "2016-10-24  119.008859\n",
       "2016-10-25  115.878176\n",
       "2016-10-26  115.013324\n",
       "2016-10-27  116.057575\n",
       "2016-10-28  115.766159\n",
       "2016-10-29  114.177107\n",
       "2016-10-30  114.272749\n",
       "2016-10-31  113.718398\n",
       "2016-11-01  112.854753\n",
       "2016-11-02  113.003119\n",
       "2016-11-03  111.273402\n",
       "2016-11-04  110.794362\n",
       "2016-11-05  110.186014\n",
       "2016-11-06  109.602710\n",
       "2016-11-07  111.922471\n",
       "2016-11-08  111.355160\n",
       "2016-11-09  111.467207\n",
       "2016-11-10  109.469385\n",
       "2016-11-11  107.988137\n",
       "2016-11-12  107.537979\n",
       "2016-11-13  111.351221"
      ]
     },
     "execution_count": 24,
     "metadata": {},
     "output_type": "execute_result"
    }
   ],
   "source": [
    "# Adding the predicted values to dateframe\n",
    "Predict_df = pd.DataFrame(Forecast, index=trange)\n",
    "Predict_df.columns = ['forecast']\n",
    "Predict_df"
   ]
  },
  {
   "cell_type": "code",
   "execution_count": 25,
   "metadata": {},
   "outputs": [
    {
     "data": {
      "text/plain": [
       "6.9122255170708335"
      ]
     },
     "execution_count": 25,
     "metadata": {},
     "output_type": "execute_result"
    }
   ],
   "source": [
    "preds = lr.predict(X_test)\n",
    "rmse=np.sqrt(np.mean(np.power((np.array(y_test)-np.array(preds)),2)))\n",
    "rmse"
   ]
  },
  {
   "cell_type": "code",
   "execution_count": 26,
   "metadata": {},
   "outputs": [
    {
     "data": {
      "text/html": [
       "<div>\n",
       "<style scoped>\n",
       "    .dataframe tbody tr th:only-of-type {\n",
       "        vertical-align: middle;\n",
       "    }\n",
       "\n",
       "    .dataframe tbody tr th {\n",
       "        vertical-align: top;\n",
       "    }\n",
       "\n",
       "    .dataframe thead th {\n",
       "        text-align: right;\n",
       "    }\n",
       "</style>\n",
       "<table border=\"1\" class=\"dataframe\">\n",
       "  <thead>\n",
       "    <tr style=\"text-align: right;\">\n",
       "      <th></th>\n",
       "      <th>open</th>\n",
       "      <th>close</th>\n",
       "      <th>low</th>\n",
       "      <th>high</th>\n",
       "      <th>volume</th>\n",
       "      <th>label</th>\n",
       "      <th>date</th>\n",
       "    </tr>\n",
       "    <tr>\n",
       "      <th>date</th>\n",
       "      <th></th>\n",
       "      <th></th>\n",
       "      <th></th>\n",
       "      <th></th>\n",
       "      <th></th>\n",
       "      <th></th>\n",
       "      <th></th>\n",
       "    </tr>\n",
       "  </thead>\n",
       "  <tbody>\n",
       "    <tr>\n",
       "      <th>2016-10-03</th>\n",
       "      <td>112.709999</td>\n",
       "      <td>112.519997</td>\n",
       "      <td>112.279999</td>\n",
       "      <td>113.050003</td>\n",
       "      <td>21701800.0</td>\n",
       "      <td>105.709999</td>\n",
       "      <td>2016-10-03</td>\n",
       "    </tr>\n",
       "    <tr>\n",
       "      <th>2016-10-04</th>\n",
       "      <td>113.059998</td>\n",
       "      <td>113.000000</td>\n",
       "      <td>112.629997</td>\n",
       "      <td>114.309998</td>\n",
       "      <td>29736800.0</td>\n",
       "      <td>107.110001</td>\n",
       "      <td>2016-10-04</td>\n",
       "    </tr>\n",
       "    <tr>\n",
       "      <th>2016-10-05</th>\n",
       "      <td>113.400002</td>\n",
       "      <td>113.050003</td>\n",
       "      <td>112.690002</td>\n",
       "      <td>113.660004</td>\n",
       "      <td>21453100.0</td>\n",
       "      <td>109.989998</td>\n",
       "      <td>2016-10-05</td>\n",
       "    </tr>\n",
       "    <tr>\n",
       "      <th>2016-10-06</th>\n",
       "      <td>113.699997</td>\n",
       "      <td>113.889999</td>\n",
       "      <td>113.129997</td>\n",
       "      <td>114.339996</td>\n",
       "      <td>28779300.0</td>\n",
       "      <td>109.949997</td>\n",
       "      <td>2016-10-06</td>\n",
       "    </tr>\n",
       "    <tr>\n",
       "      <th>2016-10-07</th>\n",
       "      <td>114.309998</td>\n",
       "      <td>114.059998</td>\n",
       "      <td>113.510002</td>\n",
       "      <td>114.559998</td>\n",
       "      <td>24358400.0</td>\n",
       "      <td>110.059998</td>\n",
       "      <td>2016-10-07</td>\n",
       "    </tr>\n",
       "    <tr>\n",
       "      <th>2016-10-10</th>\n",
       "      <td>115.019997</td>\n",
       "      <td>116.050003</td>\n",
       "      <td>114.720001</td>\n",
       "      <td>116.750000</td>\n",
       "      <td>36236000.0</td>\n",
       "      <td>111.730003</td>\n",
       "      <td>2016-10-10</td>\n",
       "    </tr>\n",
       "    <tr>\n",
       "      <th>2016-10-11</th>\n",
       "      <td>117.699997</td>\n",
       "      <td>116.300003</td>\n",
       "      <td>116.199997</td>\n",
       "      <td>118.690002</td>\n",
       "      <td>64041000.0</td>\n",
       "      <td>111.800003</td>\n",
       "      <td>2016-10-11</td>\n",
       "    </tr>\n",
       "    <tr>\n",
       "      <th>2016-10-12</th>\n",
       "      <td>117.349998</td>\n",
       "      <td>117.339996</td>\n",
       "      <td>116.750000</td>\n",
       "      <td>117.980003</td>\n",
       "      <td>37586800.0</td>\n",
       "      <td>111.230003</td>\n",
       "      <td>2016-10-12</td>\n",
       "    </tr>\n",
       "    <tr>\n",
       "      <th>2016-10-13</th>\n",
       "      <td>116.790001</td>\n",
       "      <td>116.980003</td>\n",
       "      <td>115.720001</td>\n",
       "      <td>117.440002</td>\n",
       "      <td>35192400.0</td>\n",
       "      <td>111.790001</td>\n",
       "      <td>2016-10-13</td>\n",
       "    </tr>\n",
       "    <tr>\n",
       "      <th>2016-10-14</th>\n",
       "      <td>117.879997</td>\n",
       "      <td>117.629997</td>\n",
       "      <td>117.129997</td>\n",
       "      <td>118.169998</td>\n",
       "      <td>35652200.0</td>\n",
       "      <td>111.570000</td>\n",
       "      <td>2016-10-14</td>\n",
       "    </tr>\n",
       "    <tr>\n",
       "      <th>2016-10-17</th>\n",
       "      <td>117.330002</td>\n",
       "      <td>117.550003</td>\n",
       "      <td>116.779999</td>\n",
       "      <td>117.839996</td>\n",
       "      <td>23624900.0</td>\n",
       "      <td>111.459999</td>\n",
       "      <td>2016-10-17</td>\n",
       "    </tr>\n",
       "    <tr>\n",
       "      <th>2016-10-18</th>\n",
       "      <td>118.180000</td>\n",
       "      <td>117.470001</td>\n",
       "      <td>117.449997</td>\n",
       "      <td>118.209999</td>\n",
       "      <td>24553500.0</td>\n",
       "      <td>110.519997</td>\n",
       "      <td>2016-10-18</td>\n",
       "    </tr>\n",
       "    <tr>\n",
       "      <th>2016-10-19</th>\n",
       "      <td>117.250000</td>\n",
       "      <td>117.120003</td>\n",
       "      <td>113.800003</td>\n",
       "      <td>117.760002</td>\n",
       "      <td>20034600.0</td>\n",
       "      <td>109.489998</td>\n",
       "      <td>2016-10-19</td>\n",
       "    </tr>\n",
       "    <tr>\n",
       "      <th>2016-10-20</th>\n",
       "      <td>116.860001</td>\n",
       "      <td>117.059998</td>\n",
       "      <td>116.330002</td>\n",
       "      <td>117.379997</td>\n",
       "      <td>24125800.0</td>\n",
       "      <td>109.900002</td>\n",
       "      <td>2016-10-20</td>\n",
       "    </tr>\n",
       "    <tr>\n",
       "      <th>2016-10-21</th>\n",
       "      <td>116.809998</td>\n",
       "      <td>116.599998</td>\n",
       "      <td>116.279999</td>\n",
       "      <td>116.910004</td>\n",
       "      <td>23192700.0</td>\n",
       "      <td>109.110001</td>\n",
       "      <td>2016-10-21</td>\n",
       "    </tr>\n",
       "    <tr>\n",
       "      <th>2016-10-24</th>\n",
       "      <td>117.099998</td>\n",
       "      <td>117.650002</td>\n",
       "      <td>117.000000</td>\n",
       "      <td>117.739998</td>\n",
       "      <td>23538700.0</td>\n",
       "      <td>109.949997</td>\n",
       "      <td>2016-10-24</td>\n",
       "    </tr>\n",
       "    <tr>\n",
       "      <th>2016-10-25</th>\n",
       "      <td>117.949997</td>\n",
       "      <td>118.250000</td>\n",
       "      <td>117.309998</td>\n",
       "      <td>118.360001</td>\n",
       "      <td>48129000.0</td>\n",
       "      <td>111.029999</td>\n",
       "      <td>2016-10-25</td>\n",
       "    </tr>\n",
       "    <tr>\n",
       "      <th>2016-10-26</th>\n",
       "      <td>114.309998</td>\n",
       "      <td>115.589996</td>\n",
       "      <td>113.309998</td>\n",
       "      <td>115.699997</td>\n",
       "      <td>66134200.0</td>\n",
       "      <td>112.120003</td>\n",
       "      <td>2016-10-26</td>\n",
       "    </tr>\n",
       "    <tr>\n",
       "      <th>2016-10-27</th>\n",
       "      <td>115.389999</td>\n",
       "      <td>114.480003</td>\n",
       "      <td>114.099998</td>\n",
       "      <td>115.860001</td>\n",
       "      <td>34562000.0</td>\n",
       "      <td>113.949997</td>\n",
       "      <td>2016-10-27</td>\n",
       "    </tr>\n",
       "    <tr>\n",
       "      <th>2016-10-28</th>\n",
       "      <td>113.870003</td>\n",
       "      <td>113.720001</td>\n",
       "      <td>113.449997</td>\n",
       "      <td>115.209999</td>\n",
       "      <td>37861700.0</td>\n",
       "      <td>113.300003</td>\n",
       "      <td>2016-10-28</td>\n",
       "    </tr>\n",
       "    <tr>\n",
       "      <th>2016-10-31</th>\n",
       "      <td>113.650002</td>\n",
       "      <td>113.540001</td>\n",
       "      <td>113.199997</td>\n",
       "      <td>114.230003</td>\n",
       "      <td>26419400.0</td>\n",
       "      <td>115.190002</td>\n",
       "      <td>2016-10-31</td>\n",
       "    </tr>\n",
       "    <tr>\n",
       "      <th>2016-11-01</th>\n",
       "      <td>113.459999</td>\n",
       "      <td>111.489998</td>\n",
       "      <td>110.529999</td>\n",
       "      <td>113.769997</td>\n",
       "      <td>43825800.0</td>\n",
       "      <td>115.190002</td>\n",
       "      <td>2016-11-01</td>\n",
       "    </tr>\n",
       "    <tr>\n",
       "      <th>2016-11-02</th>\n",
       "      <td>111.400002</td>\n",
       "      <td>111.589996</td>\n",
       "      <td>111.230003</td>\n",
       "      <td>112.349998</td>\n",
       "      <td>28331700.0</td>\n",
       "      <td>115.820000</td>\n",
       "      <td>2016-11-02</td>\n",
       "    </tr>\n",
       "    <tr>\n",
       "      <th>2016-11-03</th>\n",
       "      <td>110.980003</td>\n",
       "      <td>109.830002</td>\n",
       "      <td>109.550003</td>\n",
       "      <td>111.459999</td>\n",
       "      <td>26932600.0</td>\n",
       "      <td>115.970001</td>\n",
       "      <td>2016-11-03</td>\n",
       "    </tr>\n",
       "    <tr>\n",
       "      <th>2016-11-04</th>\n",
       "      <td>108.529999</td>\n",
       "      <td>108.839996</td>\n",
       "      <td>108.110001</td>\n",
       "      <td>110.250000</td>\n",
       "      <td>30837000.0</td>\n",
       "      <td>116.639999</td>\n",
       "      <td>2016-11-04</td>\n",
       "    </tr>\n",
       "    <tr>\n",
       "      <th>2016-11-07</th>\n",
       "      <td>110.080002</td>\n",
       "      <td>110.410004</td>\n",
       "      <td>109.459999</td>\n",
       "      <td>110.510002</td>\n",
       "      <td>32560000.0</td>\n",
       "      <td>116.949997</td>\n",
       "      <td>2016-11-07</td>\n",
       "    </tr>\n",
       "    <tr>\n",
       "      <th>2016-11-08</th>\n",
       "      <td>110.309998</td>\n",
       "      <td>111.059998</td>\n",
       "      <td>109.699997</td>\n",
       "      <td>111.720001</td>\n",
       "      <td>24054500.0</td>\n",
       "      <td>117.059998</td>\n",
       "      <td>2016-11-08</td>\n",
       "    </tr>\n",
       "    <tr>\n",
       "      <th>2016-11-09</th>\n",
       "      <td>109.879997</td>\n",
       "      <td>110.879997</td>\n",
       "      <td>108.050003</td>\n",
       "      <td>111.320000</td>\n",
       "      <td>59176400.0</td>\n",
       "      <td>116.290001</td>\n",
       "      <td>2016-11-09</td>\n",
       "    </tr>\n",
       "    <tr>\n",
       "      <th>2016-11-10</th>\n",
       "      <td>111.089996</td>\n",
       "      <td>107.790001</td>\n",
       "      <td>105.830002</td>\n",
       "      <td>111.089996</td>\n",
       "      <td>57134500.0</td>\n",
       "      <td>116.519997</td>\n",
       "      <td>2016-11-10</td>\n",
       "    </tr>\n",
       "    <tr>\n",
       "      <th>2016-11-11</th>\n",
       "      <td>107.120003</td>\n",
       "      <td>108.430000</td>\n",
       "      <td>106.550003</td>\n",
       "      <td>108.870003</td>\n",
       "      <td>34143900.0</td>\n",
       "      <td>117.260002</td>\n",
       "      <td>2016-11-11</td>\n",
       "    </tr>\n",
       "    <tr>\n",
       "      <th>2016-11-14</th>\n",
       "      <td>107.709999</td>\n",
       "      <td>105.709999</td>\n",
       "      <td>104.080002</td>\n",
       "      <td>107.809998</td>\n",
       "      <td>51175500.0</td>\n",
       "      <td>116.760002</td>\n",
       "      <td>2016-11-14</td>\n",
       "    </tr>\n",
       "    <tr>\n",
       "      <th>2016-11-15</th>\n",
       "      <td>106.570000</td>\n",
       "      <td>107.110001</td>\n",
       "      <td>106.160004</td>\n",
       "      <td>107.680000</td>\n",
       "      <td>32264500.0</td>\n",
       "      <td>116.730003</td>\n",
       "      <td>2016-11-15</td>\n",
       "    </tr>\n",
       "    <tr>\n",
       "      <th>2016-11-16</th>\n",
       "      <td>106.699997</td>\n",
       "      <td>109.989998</td>\n",
       "      <td>106.599998</td>\n",
       "      <td>110.230003</td>\n",
       "      <td>58840500.0</td>\n",
       "      <td>115.820000</td>\n",
       "      <td>2016-11-16</td>\n",
       "    </tr>\n",
       "  </tbody>\n",
       "</table>\n",
       "</div>"
      ],
      "text/plain": [
       "                  open       close         low        high      volume  \\\n",
       "date                                                                     \n",
       "2016-10-03  112.709999  112.519997  112.279999  113.050003  21701800.0   \n",
       "2016-10-04  113.059998  113.000000  112.629997  114.309998  29736800.0   \n",
       "2016-10-05  113.400002  113.050003  112.690002  113.660004  21453100.0   \n",
       "2016-10-06  113.699997  113.889999  113.129997  114.339996  28779300.0   \n",
       "2016-10-07  114.309998  114.059998  113.510002  114.559998  24358400.0   \n",
       "2016-10-10  115.019997  116.050003  114.720001  116.750000  36236000.0   \n",
       "2016-10-11  117.699997  116.300003  116.199997  118.690002  64041000.0   \n",
       "2016-10-12  117.349998  117.339996  116.750000  117.980003  37586800.0   \n",
       "2016-10-13  116.790001  116.980003  115.720001  117.440002  35192400.0   \n",
       "2016-10-14  117.879997  117.629997  117.129997  118.169998  35652200.0   \n",
       "2016-10-17  117.330002  117.550003  116.779999  117.839996  23624900.0   \n",
       "2016-10-18  118.180000  117.470001  117.449997  118.209999  24553500.0   \n",
       "2016-10-19  117.250000  117.120003  113.800003  117.760002  20034600.0   \n",
       "2016-10-20  116.860001  117.059998  116.330002  117.379997  24125800.0   \n",
       "2016-10-21  116.809998  116.599998  116.279999  116.910004  23192700.0   \n",
       "2016-10-24  117.099998  117.650002  117.000000  117.739998  23538700.0   \n",
       "2016-10-25  117.949997  118.250000  117.309998  118.360001  48129000.0   \n",
       "2016-10-26  114.309998  115.589996  113.309998  115.699997  66134200.0   \n",
       "2016-10-27  115.389999  114.480003  114.099998  115.860001  34562000.0   \n",
       "2016-10-28  113.870003  113.720001  113.449997  115.209999  37861700.0   \n",
       "2016-10-31  113.650002  113.540001  113.199997  114.230003  26419400.0   \n",
       "2016-11-01  113.459999  111.489998  110.529999  113.769997  43825800.0   \n",
       "2016-11-02  111.400002  111.589996  111.230003  112.349998  28331700.0   \n",
       "2016-11-03  110.980003  109.830002  109.550003  111.459999  26932600.0   \n",
       "2016-11-04  108.529999  108.839996  108.110001  110.250000  30837000.0   \n",
       "2016-11-07  110.080002  110.410004  109.459999  110.510002  32560000.0   \n",
       "2016-11-08  110.309998  111.059998  109.699997  111.720001  24054500.0   \n",
       "2016-11-09  109.879997  110.879997  108.050003  111.320000  59176400.0   \n",
       "2016-11-10  111.089996  107.790001  105.830002  111.089996  57134500.0   \n",
       "2016-11-11  107.120003  108.430000  106.550003  108.870003  34143900.0   \n",
       "2016-11-14  107.709999  105.709999  104.080002  107.809998  51175500.0   \n",
       "2016-11-15  106.570000  107.110001  106.160004  107.680000  32264500.0   \n",
       "2016-11-16  106.699997  109.989998  106.599998  110.230003  58840500.0   \n",
       "\n",
       "                 label       date  \n",
       "date                               \n",
       "2016-10-03  105.709999 2016-10-03  \n",
       "2016-10-04  107.110001 2016-10-04  \n",
       "2016-10-05  109.989998 2016-10-05  \n",
       "2016-10-06  109.949997 2016-10-06  \n",
       "2016-10-07  110.059998 2016-10-07  \n",
       "2016-10-10  111.730003 2016-10-10  \n",
       "2016-10-11  111.800003 2016-10-11  \n",
       "2016-10-12  111.230003 2016-10-12  \n",
       "2016-10-13  111.790001 2016-10-13  \n",
       "2016-10-14  111.570000 2016-10-14  \n",
       "2016-10-17  111.459999 2016-10-17  \n",
       "2016-10-18  110.519997 2016-10-18  \n",
       "2016-10-19  109.489998 2016-10-19  \n",
       "2016-10-20  109.900002 2016-10-20  \n",
       "2016-10-21  109.110001 2016-10-21  \n",
       "2016-10-24  109.949997 2016-10-24  \n",
       "2016-10-25  111.029999 2016-10-25  \n",
       "2016-10-26  112.120003 2016-10-26  \n",
       "2016-10-27  113.949997 2016-10-27  \n",
       "2016-10-28  113.300003 2016-10-28  \n",
       "2016-10-31  115.190002 2016-10-31  \n",
       "2016-11-01  115.190002 2016-11-01  \n",
       "2016-11-02  115.820000 2016-11-02  \n",
       "2016-11-03  115.970001 2016-11-03  \n",
       "2016-11-04  116.639999 2016-11-04  \n",
       "2016-11-07  116.949997 2016-11-07  \n",
       "2016-11-08  117.059998 2016-11-08  \n",
       "2016-11-09  116.290001 2016-11-09  \n",
       "2016-11-10  116.519997 2016-11-10  \n",
       "2016-11-11  117.260002 2016-11-11  \n",
       "2016-11-14  116.760002 2016-11-14  \n",
       "2016-11-15  116.730003 2016-11-15  \n",
       "2016-11-16  115.820000 2016-11-16  "
      ]
     },
     "execution_count": 26,
     "metadata": {},
     "output_type": "execute_result"
    }
   ],
   "source": [
    "#plot\n",
    "df['date'] = df.index\n",
    "df['date'] = pd.to_datetime(df['date'])\n",
    "mask = (df['date'] > '2016-10')\n",
    "updated_df = df.loc[mask]\n",
    "updated_df"
   ]
  },
  {
   "cell_type": "code",
   "execution_count": 27,
   "metadata": {},
   "outputs": [
    {
     "data": {
      "text/plain": [
       "[<matplotlib.lines.Line2D at 0xdca6050>]"
      ]
     },
     "execution_count": 27,
     "metadata": {},
     "output_type": "execute_result"
    },
    {
     "data": {
      "image/png": "[encoded data removed]",
      "text/plain": [
       "<Figure size 1152x576 with 1 Axes>"
      ]
     },
     "metadata": {
      "needs_background": "light"
     },
     "output_type": "display_data"
    }
   ],
   "source": [
    "plt.figure(figsize=(16,8))\n",
    "plt.plot(updated_df['close'], label='Close Price history')\n",
    "plt.plot(Predict_df['forecast'], label='Close Price History')"
   ]
  },
  {
   "cell_type": "markdown",
   "metadata": {},
   "source": [
    "Based on this graph, we have observed that the linear regression model was able to predict the general trend from mid Oct 2016 to early Nov 2016. however the last part of the predicted result in orange showed a drastic increase while there was a dip in the actual data."
   ]
  },
  {
   "cell_type": "markdown",
   "metadata": {},
   "source": [
    "### Moving Average"
   ]
  },
  {
   "cell_type": "code",
   "execution_count": 28,
   "metadata": {},
   "outputs": [],
   "source": [
    "from pylab import rcParams\n",
    "from sklearn.linear_model import LinearRegression\n",
    "from sklearn.metrics import mean_squared_error\n",
    "from tqdm import tqdm_notebook"
   ]
  },
  {
   "cell_type": "code",
   "execution_count": 32,
   "metadata": {},
   "outputs": [],
   "source": [
    "def get_preds_mov_avg(df, target_col, N, pred_min, offset):\n",
    "    prediction_list = df[target_col].rolling(window = N, min_periods=1).mean()\n",
    "    prediction_list = np.concatenate((np.array([np.nan]), np.array(prediction_list[:-1])))\n",
    "    prediction_list = np.array(prediction_list)\n",
    "    prediction_list[prediction_list < pred_min] = pred_min\n",
    "    \n",
    "    return prediction_list[offset:]"
   ]
  },
  {
   "cell_type": "code",
   "execution_count": 33,
   "metadata": {},
   "outputs": [],
   "source": [
    "test_size = 0.3\n",
    "cv_size = 0.2                   \n",
    "Nmax = 20                       \n",
    "num_cv = int(cv_size*len(df))\n",
    "num_test = int(test_size*len(df))\n",
    "num_train = len(df) - num_cv - num_test\n",
    "train = df[:num_train]\n",
    "cv = df[num_train:num_train+num_cv]\n",
    "train_cv = df[:num_train+num_cv]\n",
    "test = df[num_train+num_cv:]"
   ]
  },
  {
   "cell_type": "code",
   "execution_count": 34,
   "metadata": {},
   "outputs": [
    {
     "name": "stdout",
     "output_type": "stream",
     "text": [
      "RMSE = [1.136088279189026, 1.2839546832595412, 1.4554431352314419, 1.6231430114298284, 1.7827735125206432, 1.92100770378328, 2.040315560616955, 2.1485949348357147, 2.241591247173668, 2.3229061018343, 2.39712015136277, 2.4633364338484527, 2.5248889923917646, 2.5826417727925532, 2.6367962859935625, 2.69123504921246, 2.748888399331664, 2.80951021622602, 2.8711482209572567, 2.9342003326276815]\n"
     ]
    }
   ],
   "source": [
    "import math\n",
    "\n",
    "RMSE = []\n",
    "for N in range(1, Nmax+1): # N is no. of samples to use to predict the next value\n",
    "    est_list = get_preds_mov_avg(train_cv, 'close', N, 0, num_train)\n",
    "    \n",
    "    cv.loc[:, 'est' + '_N' + str(N)] = est_list\n",
    "    RMSE.append(math.sqrt(mean_squared_error(est_list, cv['close'])))\n",
    "print('RMSE = ' + str(RMSE))"
   ]
  },
  {
   "cell_type": "code",
   "execution_count": 35,
   "metadata": {},
   "outputs": [
    {
     "name": "stdout",
     "output_type": "stream",
     "text": [
      "RMSE = 1.985\n"
     ]
    },
    {
     "data": {
      "text/html": [
       "<div>\n",
       "<style scoped>\n",
       "    .dataframe tbody tr th:only-of-type {\n",
       "        vertical-align: middle;\n",
       "    }\n",
       "\n",
       "    .dataframe tbody tr th {\n",
       "        vertical-align: top;\n",
       "    }\n",
       "\n",
       "    .dataframe thead th {\n",
       "        text-align: right;\n",
       "    }\n",
       "</style>\n",
       "<table border=\"1\" class=\"dataframe\">\n",
       "  <thead>\n",
       "    <tr style=\"text-align: right;\">\n",
       "      <th></th>\n",
       "      <th>open</th>\n",
       "      <th>close</th>\n",
       "      <th>low</th>\n",
       "      <th>high</th>\n",
       "      <th>volume</th>\n",
       "      <th>label</th>\n",
       "      <th>date</th>\n",
       "      <th>est_N2</th>\n",
       "    </tr>\n",
       "    <tr>\n",
       "      <th>date</th>\n",
       "      <th></th>\n",
       "      <th></th>\n",
       "      <th></th>\n",
       "      <th></th>\n",
       "      <th></th>\n",
       "      <th></th>\n",
       "      <th></th>\n",
       "      <th></th>\n",
       "    </tr>\n",
       "  </thead>\n",
       "  <tbody>\n",
       "    <tr>\n",
       "      <th>2014-10-28</th>\n",
       "      <td>105.400002</td>\n",
       "      <td>106.739998</td>\n",
       "      <td>105.349998</td>\n",
       "      <td>106.739998</td>\n",
       "      <td>48060900.0</td>\n",
       "      <td>111.949997</td>\n",
       "      <td>2014-10-28</td>\n",
       "      <td>105.165001</td>\n",
       "    </tr>\n",
       "    <tr>\n",
       "      <th>2014-10-29</th>\n",
       "      <td>106.650002</td>\n",
       "      <td>107.339996</td>\n",
       "      <td>106.360001</td>\n",
       "      <td>107.370003</td>\n",
       "      <td>52687900.0</td>\n",
       "      <td>111.620003</td>\n",
       "      <td>2014-10-29</td>\n",
       "      <td>105.925000</td>\n",
       "    </tr>\n",
       "    <tr>\n",
       "      <th>2014-10-30</th>\n",
       "      <td>106.959999</td>\n",
       "      <td>106.980003</td>\n",
       "      <td>105.900002</td>\n",
       "      <td>107.349998</td>\n",
       "      <td>40654800.0</td>\n",
       "      <td>109.730003</td>\n",
       "      <td>2014-10-30</td>\n",
       "      <td>107.039997</td>\n",
       "    </tr>\n",
       "    <tr>\n",
       "      <th>2014-10-31</th>\n",
       "      <td>108.010002</td>\n",
       "      <td>108.000000</td>\n",
       "      <td>107.209999</td>\n",
       "      <td>108.040001</td>\n",
       "      <td>44639300.0</td>\n",
       "      <td>108.230003</td>\n",
       "      <td>2014-10-31</td>\n",
       "      <td>107.160000</td>\n",
       "    </tr>\n",
       "    <tr>\n",
       "      <th>2014-11-03</th>\n",
       "      <td>108.220001</td>\n",
       "      <td>109.400002</td>\n",
       "      <td>108.010002</td>\n",
       "      <td>110.300003</td>\n",
       "      <td>52282600.0</td>\n",
       "      <td>106.750000</td>\n",
       "      <td>2014-11-03</td>\n",
       "      <td>107.490002</td>\n",
       "    </tr>\n",
       "  </tbody>\n",
       "</table>\n",
       "</div>"
      ],
      "text/plain": [
       "                  open       close         low        high      volume  \\\n",
       "date                                                                     \n",
       "2014-10-28  105.400002  106.739998  105.349998  106.739998  48060900.0   \n",
       "2014-10-29  106.650002  107.339996  106.360001  107.370003  52687900.0   \n",
       "2014-10-30  106.959999  106.980003  105.900002  107.349998  40654800.0   \n",
       "2014-10-31  108.010002  108.000000  107.209999  108.040001  44639300.0   \n",
       "2014-11-03  108.220001  109.400002  108.010002  110.300003  52282600.0   \n",
       "\n",
       "                 label       date      est_N2  \n",
       "date                                           \n",
       "2014-10-28  111.949997 2014-10-28  105.165001  \n",
       "2014-10-29  111.620003 2014-10-29  105.925000  \n",
       "2014-10-30  109.730003 2014-10-30  107.039997  \n",
       "2014-10-31  108.230003 2014-10-31  107.160000  \n",
       "2014-11-03  106.750000 2014-11-03  107.490002  "
      ]
     },
     "execution_count": 35,
     "metadata": {},
     "output_type": "execute_result"
    }
   ],
   "source": [
    "est_list = get_preds_mov_avg(df, 'close', 2, 0, num_train+num_cv)\n",
    "test.loc[:, 'est' + '_N' + '2'] = est_list\n",
    "print(\"RMSE = %0.3f\" % math.sqrt(mean_squared_error(est_list, test['close'])))\n",
    "test.head()"
   ]
  },
  {
   "cell_type": "code",
   "execution_count": 36,
   "metadata": {},
   "outputs": [
    {
     "data": {
      "text/plain": [
       "[<matplotlib.lines.Line2D at 0xddfd030>]"
      ]
     },
     "execution_count": 36,
     "metadata": {},
     "output_type": "execute_result"
    },
    {
     "data": {
      "image/png": "[encoded data removed]",
      "text/plain": [
       "<Figure size 1152x576 with 1 Axes>"
      ]
     },
     "metadata": {
      "needs_background": "light"
     },
     "output_type": "display_data"
    }
   ],
   "source": [
    "mask = (df['date'] > '2014-10')\n",
    "updated_df2 = df.loc[mask]\n",
    "plt.figure(figsize=(16,8))\n",
    "plt.plot(updated_df2['close'], label='Close Price history')\n",
    "plt.plot(test['close'], label='Close Price History')"
   ]
  },
  {
   "cell_type": "markdown",
   "metadata": {},
   "source": [
    "Compared to the actual closing price trend we have plotted on top, the model predicted the opposite trend from the actual data"
   ]
  },
  {
   "cell_type": "markdown",
   "metadata": {},
   "source": [
    "# Autoregression Model\n",
    "As we were dealing with time-series data, we decided to make use of the autoregression model from the statsmodel library"
   ]
  },
  {
   "cell_type": "code",
   "execution_count": 37,
   "metadata": {},
   "outputs": [
    {
     "ename": "ImportError",
     "evalue": "cannot import name 'Parser' from 'parser' (unknown location)",
     "output_type": "error",
     "traceback": [
      "\u001b[1;31m---------------------------------------------------------------------------\u001b[0m",
      "\u001b[1;31mImportError\u001b[0m                               Traceback (most recent call last)",
      "\u001b[1;32m<ipython-input-37-bf386b1ae4a9>\u001b[0m in \u001b[0;36m<module>\u001b[1;34m\u001b[0m\n\u001b[1;32m----> 1\u001b[1;33m \u001b[1;32mfrom\u001b[0m \u001b[0mparser\u001b[0m \u001b[1;32mimport\u001b[0m \u001b[0mParser\u001b[0m\u001b[1;33m\u001b[0m\u001b[1;33m\u001b[0m\u001b[0m\n\u001b[0m\u001b[0;32m      2\u001b[0m \u001b[0mparser\u001b[0m \u001b[1;33m=\u001b[0m \u001b[0mParser\u001b[0m\u001b[1;33m(\u001b[0m\u001b[1;33m)\u001b[0m\u001b[1;33m\u001b[0m\u001b[1;33m\u001b[0m\u001b[0m\n\u001b[0;32m      3\u001b[0m \u001b[0mapple\u001b[0m \u001b[1;33m=\u001b[0m \u001b[0mparser\u001b[0m\u001b[1;33m.\u001b[0m\u001b[0mget\u001b[0m\u001b[1;33m(\u001b[0m\u001b[1;34m\"AAPL\"\u001b[0m\u001b[1;33m)\u001b[0m\u001b[1;33m\u001b[0m\u001b[1;33m\u001b[0m\u001b[0m\n\u001b[0;32m      4\u001b[0m \u001b[0mapple\u001b[0m\u001b[1;33m.\u001b[0m\u001b[0mplot\u001b[0m\u001b[1;33m(\u001b[0m\u001b[1;33m)\u001b[0m\u001b[1;33m\u001b[0m\u001b[1;33m\u001b[0m\u001b[0m\n\u001b[0;32m      5\u001b[0m \u001b[0msplit\u001b[0m \u001b[1;33m=\u001b[0m \u001b[0mint\u001b[0m\u001b[1;33m(\u001b[0m\u001b[0mapple\u001b[0m\u001b[1;33m.\u001b[0m\u001b[0mshape\u001b[0m\u001b[1;33m[\u001b[0m\u001b[1;36m0\u001b[0m\u001b[1;33m]\u001b[0m\u001b[1;33m*\u001b[0m\u001b[1;36m0.7\u001b[0m\u001b[1;33m)\u001b[0m\u001b[1;33m\u001b[0m\u001b[1;33m\u001b[0m\u001b[0m\n",
      "\u001b[1;31mImportError\u001b[0m: cannot import name 'Parser' from 'parser' (unknown location)"
     ]
    }
   ],
   "source": [
    "from parser import Parser\n",
    "parser = Parser()\n",
    "apple = parser.get(\"AAPL\")\n",
    "apple.plot()\n",
    "split = int(apple.shape[0]*0.7)\n",
    "train, test = apple.iloc[:split, :], apple.iloc[split:, :]"
   ]
  },
  {
   "cell_type": "code",
   "execution_count": null,
   "metadata": {},
   "outputs": [],
   "source": [
    "# !pip install statsmodels # on windows\n",
    "# !pip3 install statsmodels # on mac\n",
    "\n",
    "from statsmodels.tsa.ar_model import AutoReg\n",
    "\n",
    "start = int(apple.shape[0]*0.8)\n",
    "\n",
    "model = AutoReg(apple, lags=5).fit()\n",
    "pred = model.predict(start=0, dynamic=start)\n",
    "\n",
    "# pred = pd.Series([0 for i in range(start)]).append(pred)\n",
    "\n",
    "apple.plot(figsize=(16,12))\n",
    "pred.plot()"
   ]
  },
  {
   "cell_type": "markdown",
   "metadata": {},
   "source": [
    "For the autoregression model, we could observe that the predicted result shows a flat line, which is way off compared to the actual trend line."
   ]
  },
  {
   "cell_type": "markdown",
   "metadata": {},
   "source": [
    "# ARIMA Model\n",
    "We decided to try the ARIMA model also (another time-series prediction model) as the results from the autoregression were not fantastic"
   ]
  },
  {
   "cell_type": "code",
   "execution_count": 40,
   "metadata": {},
   "outputs": [
    {
     "ename": "ValueError",
     "evalue": "Pandas data cast to numpy dtype of object. Check input data with np.asarray(data).",
     "output_type": "error",
     "traceback": [
      "\u001b[1;31m---------------------------------------------------------------------------\u001b[0m",
      "\u001b[1;31mValueError\u001b[0m                                Traceback (most recent call last)",
      "\u001b[1;32m<ipython-input-40-564cff25de25>\u001b[0m in \u001b[0;36m<module>\u001b[1;34m\u001b[0m\n\u001b[0;32m      1\u001b[0m \u001b[1;32mfrom\u001b[0m \u001b[0mstatsmodels\u001b[0m\u001b[1;33m.\u001b[0m\u001b[0mtsa\u001b[0m\u001b[1;33m.\u001b[0m\u001b[0marima_model\u001b[0m \u001b[1;32mimport\u001b[0m \u001b[0mARIMA\u001b[0m\u001b[1;33m\u001b[0m\u001b[1;33m\u001b[0m\u001b[0m\n\u001b[0;32m      2\u001b[0m \u001b[1;33m\u001b[0m\u001b[0m\n\u001b[1;32m----> 3\u001b[1;33m \u001b[0marima_model\u001b[0m \u001b[1;33m=\u001b[0m \u001b[0mARIMA\u001b[0m\u001b[1;33m(\u001b[0m\u001b[0mtrain\u001b[0m\u001b[1;33m,\u001b[0m \u001b[0morder\u001b[0m\u001b[1;33m=\u001b[0m\u001b[1;33m(\u001b[0m\u001b[1;36m1\u001b[0m\u001b[1;33m,\u001b[0m\u001b[1;36m1\u001b[0m\u001b[1;33m,\u001b[0m\u001b[1;36m1\u001b[0m\u001b[1;33m)\u001b[0m\u001b[1;33m)\u001b[0m\u001b[1;33m\u001b[0m\u001b[1;33m\u001b[0m\u001b[0m\n\u001b[0m\u001b[0;32m      4\u001b[0m \u001b[0marima_model_fit\u001b[0m \u001b[1;33m=\u001b[0m \u001b[0marima_model\u001b[0m\u001b[1;33m.\u001b[0m\u001b[0mfit\u001b[0m\u001b[1;33m(\u001b[0m\u001b[0mdisp\u001b[0m\u001b[1;33m=\u001b[0m\u001b[1;36m0\u001b[0m\u001b[1;33m)\u001b[0m\u001b[1;33m\u001b[0m\u001b[1;33m\u001b[0m\u001b[0m\n\u001b[0;32m      5\u001b[0m \u001b[1;33m\u001b[0m\u001b[0m\n",
      "\u001b[1;32mc:\\users\\ze hong\\appdata\\local\\programs\\python\\python37-32\\lib\\site-packages\\statsmodels\\tsa\\arima_model.py\u001b[0m in \u001b[0;36m__new__\u001b[1;34m(cls, endog, order, exog, dates, freq, missing)\u001b[0m\n\u001b[0;32m   1038\u001b[0m         \u001b[1;32melse\u001b[0m\u001b[1;33m:\u001b[0m\u001b[1;33m\u001b[0m\u001b[1;33m\u001b[0m\u001b[0m\n\u001b[0;32m   1039\u001b[0m             \u001b[0mmod\u001b[0m \u001b[1;33m=\u001b[0m \u001b[0msuper\u001b[0m\u001b[1;33m(\u001b[0m\u001b[0mARIMA\u001b[0m\u001b[1;33m,\u001b[0m \u001b[0mcls\u001b[0m\u001b[1;33m)\u001b[0m\u001b[1;33m.\u001b[0m\u001b[0m__new__\u001b[0m\u001b[1;33m(\u001b[0m\u001b[0mcls\u001b[0m\u001b[1;33m)\u001b[0m\u001b[1;33m\u001b[0m\u001b[1;33m\u001b[0m\u001b[0m\n\u001b[1;32m-> 1040\u001b[1;33m             \u001b[0mmod\u001b[0m\u001b[1;33m.\u001b[0m\u001b[0m__init__\u001b[0m\u001b[1;33m(\u001b[0m\u001b[0mendog\u001b[0m\u001b[1;33m,\u001b[0m \u001b[0morder\u001b[0m\u001b[1;33m,\u001b[0m \u001b[0mexog\u001b[0m\u001b[1;33m,\u001b[0m \u001b[0mdates\u001b[0m\u001b[1;33m,\u001b[0m \u001b[0mfreq\u001b[0m\u001b[1;33m,\u001b[0m \u001b[0mmissing\u001b[0m\u001b[1;33m)\u001b[0m\u001b[1;33m\u001b[0m\u001b[1;33m\u001b[0m\u001b[0m\n\u001b[0m\u001b[0;32m   1041\u001b[0m             \u001b[1;32mreturn\u001b[0m \u001b[0mmod\u001b[0m\u001b[1;33m\u001b[0m\u001b[1;33m\u001b[0m\u001b[0m\n\u001b[0;32m   1042\u001b[0m \u001b[1;33m\u001b[0m\u001b[0m\n",
      "\u001b[1;32mc:\\users\\ze hong\\appdata\\local\\programs\\python\\python37-32\\lib\\site-packages\\statsmodels\\tsa\\arima_model.py\u001b[0m in \u001b[0;36m__init__\u001b[1;34m(self, endog, order, exog, dates, freq, missing)\u001b[0m\n\u001b[0;32m   1057\u001b[0m             \u001b[1;31m#  in the predict method\u001b[0m\u001b[1;33m\u001b[0m\u001b[1;33m\u001b[0m\u001b[1;33m\u001b[0m\u001b[0m\n\u001b[0;32m   1058\u001b[0m             \u001b[1;32mraise\u001b[0m \u001b[0mValueError\u001b[0m\u001b[1;33m(\u001b[0m\u001b[1;34m\"d > 2 is not supported\"\u001b[0m\u001b[1;33m)\u001b[0m\u001b[1;33m\u001b[0m\u001b[1;33m\u001b[0m\u001b[0m\n\u001b[1;32m-> 1059\u001b[1;33m         \u001b[0msuper\u001b[0m\u001b[1;33m(\u001b[0m\u001b[0mARIMA\u001b[0m\u001b[1;33m,\u001b[0m \u001b[0mself\u001b[0m\u001b[1;33m)\u001b[0m\u001b[1;33m.\u001b[0m\u001b[0m__init__\u001b[0m\u001b[1;33m(\u001b[0m\u001b[0mendog\u001b[0m\u001b[1;33m,\u001b[0m \u001b[1;33m(\u001b[0m\u001b[0mp\u001b[0m\u001b[1;33m,\u001b[0m \u001b[0mq\u001b[0m\u001b[1;33m)\u001b[0m\u001b[1;33m,\u001b[0m \u001b[0mexog\u001b[0m\u001b[1;33m,\u001b[0m \u001b[0mdates\u001b[0m\u001b[1;33m,\u001b[0m \u001b[0mfreq\u001b[0m\u001b[1;33m,\u001b[0m \u001b[0mmissing\u001b[0m\u001b[1;33m)\u001b[0m\u001b[1;33m\u001b[0m\u001b[1;33m\u001b[0m\u001b[0m\n\u001b[0m\u001b[0;32m   1060\u001b[0m         \u001b[0mself\u001b[0m\u001b[1;33m.\u001b[0m\u001b[0mk_diff\u001b[0m \u001b[1;33m=\u001b[0m \u001b[0md\u001b[0m\u001b[1;33m\u001b[0m\u001b[1;33m\u001b[0m\u001b[0m\n\u001b[0;32m   1061\u001b[0m         \u001b[0mself\u001b[0m\u001b[1;33m.\u001b[0m\u001b[0m_first_unintegrate\u001b[0m \u001b[1;33m=\u001b[0m \u001b[0munintegrate_levels\u001b[0m\u001b[1;33m(\u001b[0m\u001b[0mself\u001b[0m\u001b[1;33m.\u001b[0m\u001b[0mendog\u001b[0m\u001b[1;33m[\u001b[0m\u001b[1;33m:\u001b[0m\u001b[0md\u001b[0m\u001b[1;33m]\u001b[0m\u001b[1;33m,\u001b[0m \u001b[0md\u001b[0m\u001b[1;33m)\u001b[0m\u001b[1;33m\u001b[0m\u001b[1;33m\u001b[0m\u001b[0m\n",
      "\u001b[1;32mc:\\users\\ze hong\\appdata\\local\\programs\\python\\python37-32\\lib\\site-packages\\statsmodels\\tsa\\arima_model.py\u001b[0m in \u001b[0;36m__init__\u001b[1;34m(self, endog, order, exog, dates, freq, missing)\u001b[0m\n\u001b[0;32m    442\u001b[0m     def __init__(self, endog, order, exog=None, dates=None, freq=None,\n\u001b[0;32m    443\u001b[0m                  missing='none'):\n\u001b[1;32m--> 444\u001b[1;33m         \u001b[0msuper\u001b[0m\u001b[1;33m(\u001b[0m\u001b[0mARMA\u001b[0m\u001b[1;33m,\u001b[0m \u001b[0mself\u001b[0m\u001b[1;33m)\u001b[0m\u001b[1;33m.\u001b[0m\u001b[0m__init__\u001b[0m\u001b[1;33m(\u001b[0m\u001b[0mendog\u001b[0m\u001b[1;33m,\u001b[0m \u001b[0mexog\u001b[0m\u001b[1;33m,\u001b[0m \u001b[0mdates\u001b[0m\u001b[1;33m,\u001b[0m \u001b[0mfreq\u001b[0m\u001b[1;33m,\u001b[0m \u001b[0mmissing\u001b[0m\u001b[1;33m=\u001b[0m\u001b[0mmissing\u001b[0m\u001b[1;33m)\u001b[0m\u001b[1;33m\u001b[0m\u001b[1;33m\u001b[0m\u001b[0m\n\u001b[0m\u001b[0;32m    445\u001b[0m         \u001b[1;31m# GH 2575\u001b[0m\u001b[1;33m\u001b[0m\u001b[1;33m\u001b[0m\u001b[1;33m\u001b[0m\u001b[0m\n\u001b[0;32m    446\u001b[0m         \u001b[0marray_like\u001b[0m\u001b[1;33m(\u001b[0m\u001b[0mendog\u001b[0m\u001b[1;33m,\u001b[0m \u001b[1;34m'endog'\u001b[0m\u001b[1;33m)\u001b[0m\u001b[1;33m\u001b[0m\u001b[1;33m\u001b[0m\u001b[0m\n",
      "\u001b[1;32mc:\\users\\ze hong\\appdata\\local\\programs\\python\\python37-32\\lib\\site-packages\\statsmodels\\tsa\\base\\tsa_model.py\u001b[0m in \u001b[0;36m__init__\u001b[1;34m(self, endog, exog, dates, freq, missing, **kwargs)\u001b[0m\n\u001b[0;32m     45\u001b[0m                  missing='none', **kwargs):\n\u001b[0;32m     46\u001b[0m         super(TimeSeriesModel, self).__init__(endog, exog, missing=missing,\n\u001b[1;32m---> 47\u001b[1;33m                                               **kwargs)\n\u001b[0m\u001b[0;32m     48\u001b[0m \u001b[1;33m\u001b[0m\u001b[0m\n\u001b[0;32m     49\u001b[0m         \u001b[1;31m# Date handling in indexes\u001b[0m\u001b[1;33m\u001b[0m\u001b[1;33m\u001b[0m\u001b[1;33m\u001b[0m\u001b[0m\n",
      "\u001b[1;32mc:\\users\\ze hong\\appdata\\local\\programs\\python\\python37-32\\lib\\site-packages\\statsmodels\\base\\model.py\u001b[0m in \u001b[0;36m__init__\u001b[1;34m(self, endog, exog, **kwargs)\u001b[0m\n\u001b[0;32m    234\u001b[0m \u001b[1;33m\u001b[0m\u001b[0m\n\u001b[0;32m    235\u001b[0m     \u001b[1;32mdef\u001b[0m \u001b[0m__init__\u001b[0m\u001b[1;33m(\u001b[0m\u001b[0mself\u001b[0m\u001b[1;33m,\u001b[0m \u001b[0mendog\u001b[0m\u001b[1;33m,\u001b[0m \u001b[0mexog\u001b[0m\u001b[1;33m=\u001b[0m\u001b[1;32mNone\u001b[0m\u001b[1;33m,\u001b[0m \u001b[1;33m**\u001b[0m\u001b[0mkwargs\u001b[0m\u001b[1;33m)\u001b[0m\u001b[1;33m:\u001b[0m\u001b[1;33m\u001b[0m\u001b[1;33m\u001b[0m\u001b[0m\n\u001b[1;32m--> 236\u001b[1;33m         \u001b[0msuper\u001b[0m\u001b[1;33m(\u001b[0m\u001b[0mLikelihoodModel\u001b[0m\u001b[1;33m,\u001b[0m \u001b[0mself\u001b[0m\u001b[1;33m)\u001b[0m\u001b[1;33m.\u001b[0m\u001b[0m__init__\u001b[0m\u001b[1;33m(\u001b[0m\u001b[0mendog\u001b[0m\u001b[1;33m,\u001b[0m \u001b[0mexog\u001b[0m\u001b[1;33m,\u001b[0m \u001b[1;33m**\u001b[0m\u001b[0mkwargs\u001b[0m\u001b[1;33m)\u001b[0m\u001b[1;33m\u001b[0m\u001b[1;33m\u001b[0m\u001b[0m\n\u001b[0m\u001b[0;32m    237\u001b[0m         \u001b[0mself\u001b[0m\u001b[1;33m.\u001b[0m\u001b[0minitialize\u001b[0m\u001b[1;33m(\u001b[0m\u001b[1;33m)\u001b[0m\u001b[1;33m\u001b[0m\u001b[1;33m\u001b[0m\u001b[0m\n\u001b[0;32m    238\u001b[0m \u001b[1;33m\u001b[0m\u001b[0m\n",
      "\u001b[1;32mc:\\users\\ze hong\\appdata\\local\\programs\\python\\python37-32\\lib\\site-packages\\statsmodels\\base\\model.py\u001b[0m in \u001b[0;36m__init__\u001b[1;34m(self, endog, exog, **kwargs)\u001b[0m\n\u001b[0;32m     75\u001b[0m         \u001b[0mhasconst\u001b[0m \u001b[1;33m=\u001b[0m \u001b[0mkwargs\u001b[0m\u001b[1;33m.\u001b[0m\u001b[0mpop\u001b[0m\u001b[1;33m(\u001b[0m\u001b[1;34m'hasconst'\u001b[0m\u001b[1;33m,\u001b[0m \u001b[1;32mNone\u001b[0m\u001b[1;33m)\u001b[0m\u001b[1;33m\u001b[0m\u001b[1;33m\u001b[0m\u001b[0m\n\u001b[0;32m     76\u001b[0m         self.data = self._handle_data(endog, exog, missing, hasconst,\n\u001b[1;32m---> 77\u001b[1;33m                                       **kwargs)\n\u001b[0m\u001b[0;32m     78\u001b[0m         \u001b[0mself\u001b[0m\u001b[1;33m.\u001b[0m\u001b[0mk_constant\u001b[0m \u001b[1;33m=\u001b[0m \u001b[0mself\u001b[0m\u001b[1;33m.\u001b[0m\u001b[0mdata\u001b[0m\u001b[1;33m.\u001b[0m\u001b[0mk_constant\u001b[0m\u001b[1;33m\u001b[0m\u001b[1;33m\u001b[0m\u001b[0m\n\u001b[0;32m     79\u001b[0m         \u001b[0mself\u001b[0m\u001b[1;33m.\u001b[0m\u001b[0mexog\u001b[0m \u001b[1;33m=\u001b[0m \u001b[0mself\u001b[0m\u001b[1;33m.\u001b[0m\u001b[0mdata\u001b[0m\u001b[1;33m.\u001b[0m\u001b[0mexog\u001b[0m\u001b[1;33m\u001b[0m\u001b[1;33m\u001b[0m\u001b[0m\n",
      "\u001b[1;32mc:\\users\\ze hong\\appdata\\local\\programs\\python\\python37-32\\lib\\site-packages\\statsmodels\\base\\model.py\u001b[0m in \u001b[0;36m_handle_data\u001b[1;34m(self, endog, exog, missing, hasconst, **kwargs)\u001b[0m\n\u001b[0;32m     98\u001b[0m \u001b[1;33m\u001b[0m\u001b[0m\n\u001b[0;32m     99\u001b[0m     \u001b[1;32mdef\u001b[0m \u001b[0m_handle_data\u001b[0m\u001b[1;33m(\u001b[0m\u001b[0mself\u001b[0m\u001b[1;33m,\u001b[0m \u001b[0mendog\u001b[0m\u001b[1;33m,\u001b[0m \u001b[0mexog\u001b[0m\u001b[1;33m,\u001b[0m \u001b[0mmissing\u001b[0m\u001b[1;33m,\u001b[0m \u001b[0mhasconst\u001b[0m\u001b[1;33m,\u001b[0m \u001b[1;33m**\u001b[0m\u001b[0mkwargs\u001b[0m\u001b[1;33m)\u001b[0m\u001b[1;33m:\u001b[0m\u001b[1;33m\u001b[0m\u001b[1;33m\u001b[0m\u001b[0m\n\u001b[1;32m--> 100\u001b[1;33m         \u001b[0mdata\u001b[0m \u001b[1;33m=\u001b[0m \u001b[0mhandle_data\u001b[0m\u001b[1;33m(\u001b[0m\u001b[0mendog\u001b[0m\u001b[1;33m,\u001b[0m \u001b[0mexog\u001b[0m\u001b[1;33m,\u001b[0m \u001b[0mmissing\u001b[0m\u001b[1;33m,\u001b[0m \u001b[0mhasconst\u001b[0m\u001b[1;33m,\u001b[0m \u001b[1;33m**\u001b[0m\u001b[0mkwargs\u001b[0m\u001b[1;33m)\u001b[0m\u001b[1;33m\u001b[0m\u001b[1;33m\u001b[0m\u001b[0m\n\u001b[0m\u001b[0;32m    101\u001b[0m         \u001b[1;31m# kwargs arrays could have changed, easier to just attach here\u001b[0m\u001b[1;33m\u001b[0m\u001b[1;33m\u001b[0m\u001b[1;33m\u001b[0m\u001b[0m\n\u001b[0;32m    102\u001b[0m         \u001b[1;32mfor\u001b[0m \u001b[0mkey\u001b[0m \u001b[1;32min\u001b[0m \u001b[0mkwargs\u001b[0m\u001b[1;33m:\u001b[0m\u001b[1;33m\u001b[0m\u001b[1;33m\u001b[0m\u001b[0m\n",
      "\u001b[1;32mc:\\users\\ze hong\\appdata\\local\\programs\\python\\python37-32\\lib\\site-packages\\statsmodels\\base\\data.py\u001b[0m in \u001b[0;36mhandle_data\u001b[1;34m(endog, exog, missing, hasconst, **kwargs)\u001b[0m\n\u001b[0;32m    670\u001b[0m     \u001b[0mklass\u001b[0m \u001b[1;33m=\u001b[0m \u001b[0mhandle_data_class_factory\u001b[0m\u001b[1;33m(\u001b[0m\u001b[0mendog\u001b[0m\u001b[1;33m,\u001b[0m \u001b[0mexog\u001b[0m\u001b[1;33m)\u001b[0m\u001b[1;33m\u001b[0m\u001b[1;33m\u001b[0m\u001b[0m\n\u001b[0;32m    671\u001b[0m     return klass(endog, exog=exog, missing=missing, hasconst=hasconst,\n\u001b[1;32m--> 672\u001b[1;33m                  **kwargs)\n\u001b[0m",
      "\u001b[1;32mc:\\users\\ze hong\\appdata\\local\\programs\\python\\python37-32\\lib\\site-packages\\statsmodels\\base\\data.py\u001b[0m in \u001b[0;36m__init__\u001b[1;34m(self, endog, exog, missing, hasconst, **kwargs)\u001b[0m\n\u001b[0;32m     81\u001b[0m             \u001b[0mself\u001b[0m\u001b[1;33m.\u001b[0m\u001b[0morig_endog\u001b[0m \u001b[1;33m=\u001b[0m \u001b[0mendog\u001b[0m\u001b[1;33m\u001b[0m\u001b[1;33m\u001b[0m\u001b[0m\n\u001b[0;32m     82\u001b[0m             \u001b[0mself\u001b[0m\u001b[1;33m.\u001b[0m\u001b[0morig_exog\u001b[0m \u001b[1;33m=\u001b[0m \u001b[0mexog\u001b[0m\u001b[1;33m\u001b[0m\u001b[1;33m\u001b[0m\u001b[0m\n\u001b[1;32m---> 83\u001b[1;33m             \u001b[0mself\u001b[0m\u001b[1;33m.\u001b[0m\u001b[0mendog\u001b[0m\u001b[1;33m,\u001b[0m \u001b[0mself\u001b[0m\u001b[1;33m.\u001b[0m\u001b[0mexog\u001b[0m \u001b[1;33m=\u001b[0m \u001b[0mself\u001b[0m\u001b[1;33m.\u001b[0m\u001b[0m_convert_endog_exog\u001b[0m\u001b[1;33m(\u001b[0m\u001b[0mendog\u001b[0m\u001b[1;33m,\u001b[0m \u001b[0mexog\u001b[0m\u001b[1;33m)\u001b[0m\u001b[1;33m\u001b[0m\u001b[1;33m\u001b[0m\u001b[0m\n\u001b[0m\u001b[0;32m     84\u001b[0m \u001b[1;33m\u001b[0m\u001b[0m\n\u001b[0;32m     85\u001b[0m         \u001b[0mself\u001b[0m\u001b[1;33m.\u001b[0m\u001b[0mconst_idx\u001b[0m \u001b[1;33m=\u001b[0m \u001b[1;32mNone\u001b[0m\u001b[1;33m\u001b[0m\u001b[1;33m\u001b[0m\u001b[0m\n",
      "\u001b[1;32mc:\\users\\ze hong\\appdata\\local\\programs\\python\\python37-32\\lib\\site-packages\\statsmodels\\base\\data.py\u001b[0m in \u001b[0;36m_convert_endog_exog\u001b[1;34m(self, endog, exog)\u001b[0m\n\u001b[0;32m    506\u001b[0m         \u001b[0mexog\u001b[0m \u001b[1;33m=\u001b[0m \u001b[0mexog\u001b[0m \u001b[1;32mif\u001b[0m \u001b[0mexog\u001b[0m \u001b[1;32mis\u001b[0m \u001b[1;32mNone\u001b[0m \u001b[1;32melse\u001b[0m \u001b[0mnp\u001b[0m\u001b[1;33m.\u001b[0m\u001b[0masarray\u001b[0m\u001b[1;33m(\u001b[0m\u001b[0mexog\u001b[0m\u001b[1;33m)\u001b[0m\u001b[1;33m\u001b[0m\u001b[1;33m\u001b[0m\u001b[0m\n\u001b[0;32m    507\u001b[0m         \u001b[1;32mif\u001b[0m \u001b[0mendog\u001b[0m\u001b[1;33m.\u001b[0m\u001b[0mdtype\u001b[0m \u001b[1;33m==\u001b[0m \u001b[0mobject\u001b[0m \u001b[1;32mor\u001b[0m \u001b[0mexog\u001b[0m \u001b[1;32mis\u001b[0m \u001b[1;32mnot\u001b[0m \u001b[1;32mNone\u001b[0m \u001b[1;32mand\u001b[0m \u001b[0mexog\u001b[0m\u001b[1;33m.\u001b[0m\u001b[0mdtype\u001b[0m \u001b[1;33m==\u001b[0m \u001b[0mobject\u001b[0m\u001b[1;33m:\u001b[0m\u001b[1;33m\u001b[0m\u001b[1;33m\u001b[0m\u001b[0m\n\u001b[1;32m--> 508\u001b[1;33m             raise ValueError(\"Pandas data cast to numpy dtype of object. \"\n\u001b[0m\u001b[0;32m    509\u001b[0m                              \"Check input data with np.asarray(data).\")\n\u001b[0;32m    510\u001b[0m         \u001b[1;32mreturn\u001b[0m \u001b[0msuper\u001b[0m\u001b[1;33m(\u001b[0m\u001b[0mPandasData\u001b[0m\u001b[1;33m,\u001b[0m \u001b[0mself\u001b[0m\u001b[1;33m)\u001b[0m\u001b[1;33m.\u001b[0m\u001b[0m_convert_endog_exog\u001b[0m\u001b[1;33m(\u001b[0m\u001b[0mendog\u001b[0m\u001b[1;33m,\u001b[0m \u001b[0mexog\u001b[0m\u001b[1;33m)\u001b[0m\u001b[1;33m\u001b[0m\u001b[1;33m\u001b[0m\u001b[0m\n",
      "\u001b[1;31mValueError\u001b[0m: Pandas data cast to numpy dtype of object. Check input data with np.asarray(data)."
     ]
    }
   ],
   "source": [
    "from statsmodels.tsa.arima_model import ARIMA\n",
    "\n",
    "arima_model = ARIMA(train, order=(1,1,1))\n",
    "arima_model_fit = arima_model.fit(disp=0)\n",
    "\n",
    "arima_model_fit.summary()"
   ]
  },
  {
   "cell_type": "code",
   "execution_count": null,
   "metadata": {},
   "outputs": [],
   "source": [
    "fc, se, conf = arima_model_fit.forecast(test.shape[0], alpha=0.05)  # 95% conf\n",
    "\n",
    "# Make as pandas series\n",
    "fc_series = pd.Series(fc, index=test.index)\n",
    "lower_series = pd.Series(conf[:, 0], index=test.index)\n",
    "upper_series = pd.Series(conf[:, 1], index=test.index)\n",
    "\n",
    "# Plot\n",
    "plt.figure(figsize=(12,5), dpi=100)\n",
    "plt.plot(train, label='training')\n",
    "plt.plot(test, label='actual')\n",
    "plt.plot(fc_series, label='forecast')\n",
    "plt.fill_between(lower_series.index, lower_series, upper_series, \n",
    "                 color='k', alpha=.15)\n",
    "plt.title('Forecast vs Actuals')\n",
    "plt.legend(loc='upper left', fontsize=8)\n",
    "plt.show()"
   ]
  },
  {
   "cell_type": "markdown",
   "metadata": {},
   "source": [
    "Similarly, the model was not able to capture the general trend and performed way worst than linear regression"
   ]
  },
  {
   "cell_type": "markdown",
   "metadata": {},
   "source": [
    "# Logistic Regression & other sklearn models\n",
    "We also experimented with several models as a time series predictor.\n",
    "One unconventional one that we experimented was logistic regression since our target variable is not a categorical data. To achieve this task in this model, the independent variable was the the past N price columns, while the dependent variable was a binary variable representing whether the next price after the window was higher than its previous price. "
   ]
  },
  {
   "cell_type": "code",
   "execution_count": 41,
   "metadata": {},
   "outputs": [
    {
     "ename": "NameError",
     "evalue": "name 'apple' is not defined",
     "output_type": "error",
     "traceback": [
      "\u001b[1;31m---------------------------------------------------------------------------\u001b[0m",
      "\u001b[1;31mNameError\u001b[0m                                 Traceback (most recent call last)",
      "\u001b[1;32m<ipython-input-41-dc148c6e44a8>\u001b[0m in \u001b[0;36m<module>\u001b[1;34m\u001b[0m\n\u001b[0;32m     15\u001b[0m \u001b[0mx\u001b[0m \u001b[1;33m=\u001b[0m \u001b[1;33m[\u001b[0m\u001b[1;33m]\u001b[0m\u001b[1;33m\u001b[0m\u001b[1;33m\u001b[0m\u001b[0m\n\u001b[0;32m     16\u001b[0m \u001b[0my\u001b[0m \u001b[1;33m=\u001b[0m \u001b[1;33m[\u001b[0m\u001b[1;33m]\u001b[0m\u001b[1;33m\u001b[0m\u001b[1;33m\u001b[0m\u001b[0m\n\u001b[1;32m---> 17\u001b[1;33m \u001b[1;32mfor\u001b[0m \u001b[0mi\u001b[0m \u001b[1;32min\u001b[0m \u001b[0mrange\u001b[0m\u001b[1;33m(\u001b[0m\u001b[0mWINDOW\u001b[0m\u001b[1;33m,\u001b[0m \u001b[0mlen\u001b[0m\u001b[1;33m(\u001b[0m\u001b[0mapple\u001b[0m\u001b[1;33m.\u001b[0m\u001b[0mvalues\u001b[0m\u001b[1;33m)\u001b[0m\u001b[1;33m)\u001b[0m\u001b[1;33m:\u001b[0m\u001b[1;33m\u001b[0m\u001b[1;33m\u001b[0m\u001b[0m\n\u001b[0m\u001b[0;32m     18\u001b[0m     \u001b[0mxv\u001b[0m \u001b[1;33m=\u001b[0m \u001b[0mapple\u001b[0m\u001b[1;33m[\u001b[0m\u001b[1;34m\"price\"\u001b[0m\u001b[1;33m]\u001b[0m\u001b[1;33m.\u001b[0m\u001b[0mvalues\u001b[0m\u001b[1;33m[\u001b[0m\u001b[0mi\u001b[0m\u001b[1;33m-\u001b[0m\u001b[0mWINDOW\u001b[0m\u001b[1;33m:\u001b[0m\u001b[0mi\u001b[0m\u001b[1;33m]\u001b[0m\u001b[1;33m\u001b[0m\u001b[1;33m\u001b[0m\u001b[0m\n\u001b[0;32m     19\u001b[0m     \u001b[0myv\u001b[0m \u001b[1;33m=\u001b[0m \u001b[0mapple\u001b[0m\u001b[1;33m[\u001b[0m\u001b[1;34m\"price\"\u001b[0m\u001b[1;33m]\u001b[0m\u001b[1;33m.\u001b[0m\u001b[0mvalues\u001b[0m\u001b[1;33m[\u001b[0m\u001b[0mi\u001b[0m\u001b[1;33m]\u001b[0m\u001b[1;33m\u001b[0m\u001b[1;33m\u001b[0m\u001b[0m\n",
      "\u001b[1;31mNameError\u001b[0m: name 'apple' is not defined"
     ]
    }
   ],
   "source": [
    "from sklearn.model_selection import train_test_split\n",
    "\n",
    "from sklearn.preprocessing import MinMaxScaler, RobustScaler, StandardScaler, MaxAbsScaler\n",
    "\n",
    "from sklearn.naive_bayes import BernoulliNB\n",
    "from sklearn.linear_model import LogisticRegression\n",
    "from sklearn.ensemble import RandomForestClassifier\n",
    "from sklearn.tree import DecisionTreeClassifier\n",
    "from sklearn.svm import LinearSVC\n",
    "\n",
    "from sklearn.metrics import accuracy_score, precision_score, recall_score, f1_score\n",
    "\n",
    "WINDOW = 50\n",
    "\n",
    "x = []\n",
    "y = []\n",
    "for i in range(WINDOW, len(apple.values)):\n",
    "    xv = apple[\"price\"].values[i-WINDOW:i]\n",
    "    yv = apple[\"price\"].values[i]\n",
    "    x.append(xv)\n",
    "    \n",
    "    if yv < xv[-1]:\n",
    "        y.append(0)\n",
    "    else:\n",
    "        y.append(1)\n",
    "    \n",
    "x = pd.DataFrame(x)\n",
    "\n",
    "Scalers = [\n",
    "    (\"standard scaler\", StandardScaler),\n",
    "    (\"min max scaler\", MinMaxScaler),\n",
    "    (\"robust scaler\", RobustScaler),\n",
    "    (\"max ab scaler\", MaxAbsScaler)\n",
    "]\n",
    "\n",
    "Models = [\n",
    "    (\"Naive bayes\", BernoulliNB),\n",
    "    (\"logistic regresssion\", LogisticRegression),\n",
    "    (\"decision tree\", DecisionTreeClassifier),\n",
    "    (\"random forest\", RandomForestClassifier),\n",
    "    (\"support vector machine\", LinearSVC)\n",
    "]\n",
    "\n",
    "for scaler_name, Scaler in Scalers:\n",
    "\n",
    "    print(\"=\"*100)\n",
    "    print(\"scaler used:\", scaler_name)\n",
    "    print(\"=\"*100)\n",
    "    print()\n",
    "    \n",
    "    for model_name, Model in Models:\n",
    "\n",
    "        scaler = Scaler()\n",
    "        x_scaled = scaler.fit_transform(x)\n",
    "        x_train, x_test, y_train, y_test = train_test_split(x_scaled,y)\n",
    "\n",
    "\n",
    "        model = Model()\n",
    "        model.fit(x_train, y_train)\n",
    "        y_pred = model.predict(x_test)\n",
    "\n",
    "        print(f\"{model_name} accuracy score:\", accuracy_score(y_pred, y_test))\n",
    "        print(f\"{model_name} precision score:\", precision_score(y_pred, y_test))\n",
    "        print(f\"{model_name} recall score:\", recall_score(y_pred, y_test))\n",
    "        print(f\"{model_name} f1 score:\", f1_score(y_pred, y_test))\n",
    "        print()\n",
    "\n",
    "\n"
   ]
  },
  {
   "cell_type": "markdown",
   "metadata": {},
   "source": [
    "<h2>Improving our models</h2>\n",
    "<br>\n",
    "After evaluating our models and data, we believe that there are a few ways we may potentially improve the performance of our models."
   ]
  },
  {
   "cell_type": "markdown",
   "metadata": {},
   "source": [
    "### Introducing more features\n",
    "\n",
    "Based on the datasets provided on kaggle, we are given some fundamental indicators relating to each stock. We decided to combine the fundamentals dataset with the stock price datasets to introduce more features into our machine learning models"
   ]
  },
  {
   "cell_type": "code",
   "execution_count": null,
   "metadata": {},
   "outputs": [],
   "source": [
    "df = pd.read_csv('data/prices-split-adjusted.csv')\n",
    "df3 = df3.rename(columns={'Ticker Symbol':'symbol', 'Period Ending':'date'})\n",
    "df4 = pd.merge(df, df3, how='left', on=['date','symbol'])"
   ]
  },
  {
   "cell_type": "markdown",
   "metadata": {},
   "source": [
    "### Feature engineering\n",
    "\n",
    "We have decided to take sector information from our securities dataset to add it into our main dataset. Since sector data is categorical, we have to encode it into continuous variables"
   ]
  },
  {
   "cell_type": "code",
   "execution_count": null,
   "metadata": {},
   "outputs": [],
   "source": [
    "df2['GICS Sector'] = df2['GICS Sector'].astype('category')\n",
    "cat_columns = df2.select_dtypes(['category']).columns\n",
    "df2[cat_columns] = df2[cat_columns].apply(lambda x: x.cat.codes)\n",
    "df2 = df2.rename(columns={'Ticker symbol':'symbol'})\n",
    "#combining it to the main dataset\n",
    "tempdf = df2[['symbol','GICS Sector']]\n",
    "df4 = pd.merge(df4, tempdf['symbol'], how='inner', on=['symbol'])"
   ]
  },
  {
   "cell_type": "markdown",
   "metadata": {},
   "source": [
    "### Normalisation\n",
    "\n",
    "Since the data consist of features with varying scales, we decided to apply normalisation to ensure that the model is not affected by extreme values. We decided to apply min max normalization to our problem"
   ]
  },
  {
   "cell_type": "code",
   "execution_count": null,
   "metadata": {},
   "outputs": [],
   "source": [
    "from sklearn import preprocessing\n",
    "\n",
    "x = df4.iloc[:,2:].values #returns a numpy array\n",
    "min_max_scaler = preprocessing.MinMaxScaler()\n",
    "x_scaled = min_max_scaler.fit_transform(x)\n",
    "df4_scaled = pd.DataFrame(x_scaled)\n",
    "df4_scaled = pd.concat([df4.iloc[:,:2], df4_scaled], axis=1)\n",
    "df4_scaled.columns = df4.columns\n",
    "df4_scaled"
   ]
  },
  {
   "cell_type": "markdown",
   "metadata": {},
   "source": [
    "<h2>Re-evaluating our models</h2>\n",
    "\n",
    "In this section, we are going to re-evaluate 2 models that we have identified using the new and improved dataset. We have identified 2 models (Linear regression & Genetic Algorithm) to further improve on due to the high accuracy score (For Linear Regression) shown. We decided to explore Genetic Algorithm further as the results shown seems to show profitability from trading"
   ]
  },
  {
   "cell_type": "markdown",
   "metadata": {},
   "source": [
    "### Linear regression"
   ]
  },
  {
   "cell_type": "code",
   "execution_count": null,
   "metadata": {},
   "outputs": [],
   "source": [
    "# Creating new column \n",
    "num = 30 # forcasting 30 days ahead\n",
    "df4_scaled['label'] = df4_scaled['close'].shift(-num) # forcasting close column\n",
    "                                     \n",
    "print(df4_scaled.shape)"
   ]
  },
  {
   "cell_type": "code",
   "execution_count": null,
   "metadata": {},
   "outputs": [],
   "source": [
    "df = df4_scaled.loc[df4_scaled['symbol']=='AAPL']\n",
    "df.drop('symbol', axis=1, inplace=True)\n",
    "Data = df.drop(['label',\"date\"],axis=1)\n",
    "X = Data.values\n",
    "X = preprocessing.scale(X)\n",
    "# X = X[:-num]\n",
    "\n",
    "Target = df.label\n",
    "y = Target.values\n",
    "print(np.shape(X), np.shape(y))\n",
    "X = np.nan_to_num(X)"
   ]
  },
  {
   "cell_type": "code",
   "execution_count": null,
   "metadata": {},
   "outputs": [],
   "source": [
    "X_train, X_test, y_train, y_test = train_test_split(X, y, test_size=0.3)\n",
    "lr = LinearRegression()\n",
    "lr.fit(X_train, y_train)\n",
    "lr.score(X_test , y_test) #Returns the coefficient of determination R^2 of the prediction\n"
   ]
  },
  {
   "cell_type": "code",
   "execution_count": null,
   "metadata": {},
   "outputs": [],
   "source": [
    "# Prediction \n",
    "\n",
    "X_Predict = X[-num:]\n",
    "Forecast = lr.predict(X_Predict)\n",
    "print(Forecast)"
   ]
  },
  {
   "cell_type": "code",
   "execution_count": null,
   "metadata": {},
   "outputs": [],
   "source": [
    "Date = np.array(df.index) \n",
    "last_Date = Date[len(Date)-1]\n",
    "print(last_Date)"
   ]
  },
  {
   "cell_type": "code",
   "execution_count": null,
   "metadata": {},
   "outputs": [],
   "source": [
    "# creating timeserie from the last date\n",
    "\n",
    "trange = pd.date_range('2016-10-15', periods=num, freq='d')\n",
    "trange"
   ]
  },
  {
   "cell_type": "code",
   "execution_count": null,
   "metadata": {},
   "outputs": [],
   "source": [
    "# Adding the predicted values to dateframe\n",
    "Predict_df = pd.DataFrame(Forecast, index=trange)\n",
    "Predict_df.columns = ['forecast']\n",
    "Predict_df"
   ]
  },
  {
   "cell_type": "code",
   "execution_count": null,
   "metadata": {},
   "outputs": [],
   "source": [
    "preds = lr.predict(X_test)\n",
    "rmse=np.sqrt(np.mean(np.power((np.array(y_test)-np.array(preds)),2)))\n",
    "rmse"
   ]
  },
  {
   "cell_type": "code",
   "execution_count": null,
   "metadata": {},
   "outputs": [],
   "source": [
    "plt.figure(figsize=(16,8))\n",
    "plt.plot(updated_df['close'], label='Close Price history')\n",
    "plt.plot(Predict_df['forecast'], label='Close Price History')"
   ]
  },
  {
   "cell_type": "markdown",
   "metadata": {},
   "source": [
    "We discovered that the multiple linear regression model seem to have performed worst than the baseline linear regression model. Some of the possible reasons we believed could be due to overfitting of the data as we included more features. In addition, data also became sparse due to the combination of 2 datasets. Some possible reasons to improve could be to get more data for the variables we are exploring."
   ]
  },
  {
   "cell_type": "markdown",
   "metadata": {},
   "source": [
    "# Genetic Algorithm\n",
    "We decided also to explore the use of the genetic algorithm learnt in class to teach a model to learn how to trade. Here's the general idea of what we tried to do\n",
    "\n",
    "```\n",
    "1. preprocess and clean the data\n",
    "2. spawn N monkeys (agents)\n",
    "3. randomly initialize the array representation of the monkeys\n",
    "4. get the N monkeys to trade a pool of random stocks\n",
    "5. sort the monkeys based on their percentage gains\n",
    "6. pick the best n monkeys \n",
    "7. spawn more children monkeys from the best n monkeys (mutation + combination)\n",
    "8. repeat steps 4 to 7 for i iterations\n",
    "\n",
    "```"
   ]
  },
  {
   "cell_type": "code",
   "execution_count": 53,
   "metadata": {},
   "outputs": [],
   "source": [
    "from genetic_helper.classes.Monkey import Monkey\n",
    "from genetic_helper.classes.genetic import Genetic\n",
    "from parser import Parser"
   ]
  },
  {
   "cell_type": "code",
   "execution_count": 80,
   "metadata": {},
   "outputs": [
    {
     "name": "stdout",
     "output_type": "stream",
     "text": [
      "chosen: ['SE', 'WDC', 'PAYX', 'MSFT']\n",
      "iteration 1: stats: {'high': 98.9825843971, 'average': -16.802581843893766, 'low': -106.52281808720001} \n",
      "iteration 2: stats: {'high': 98.9825843971, 'average': 66.96499935790848, 'low': -88.885198554925} \n",
      "iteration 3: stats: {'high': 99.1344432374375, 'average': 71.89093455166496, 'low': -3.492686098125006} \n",
      "iteration 4: stats: {'high': 99.27685190143751, 'average': 53.16319800681974, 'low': 0.0} \n",
      "iteration 5: stats: {'high': 102.95403170514999, 'average': 39.28556230698249, 'low': -91.54888202776249} \n",
      "iteration 6: stats: {'high': 102.95403170514999, 'average': 44.55150021351171, 'low': -107.37795514103749} \n",
      "iteration 7: stats: {'high': 102.95403170514999, 'average': 52.91614272013398, 'low': -91.26175550966249} \n",
      "iteration 8: stats: {'high': 102.95403170514999, 'average': 37.59712293497722, 'low': -111.183516466575} \n",
      "iteration 9: stats: {'high': 102.95403170514999, 'average': 48.226678377212735, 'low': -107.99118737013751} \n",
      "iteration 10: stats: {'high': 105.0484127491625, 'average': 40.28602602176723, 'low': -112.8590154144625} \n",
      "iteration 11: stats: {'high': 105.0484127491625, 'average': 39.02662608579522, 'low': -83.42973822770014} \n",
      "iteration 12: stats: {'high': 106.47505623791248, 'average': 42.19432657648098, 'low': -88.885198554925} \n",
      "iteration 13: stats: {'high': 106.47505623791248, 'average': 45.757126105157006, 'low': -97.1047841457875} \n",
      "iteration 14: stats: {'high': 117.7177738752625, 'average': 38.8131085857515, 'low': -88.885198554925} \n",
      "iteration 15: stats: {'high': 117.7177738752625, 'average': 50.742046927823, 'low': -89.6194548164625} \n",
      "iteration 16: stats: {'high': 117.7177738752625, 'average': 45.578095795144236, 'low': -89.86271521578749} \n",
      "iteration 17: stats: {'high': 117.7177738752625, 'average': 42.26535665823999, 'low': -91.76419300127498} \n",
      "iteration 18: stats: {'high': 117.7177738752625, 'average': 46.148569029363735, 'low': -89.58232116082499} \n",
      "iteration 19: stats: {'high': 117.7177738752625, 'average': 58.585056746002984, 'low': -1.8295964971375098} \n",
      "iteration 20: stats: {'high': 117.7177738752625, 'average': 55.083265956862725, 'low': -2.600456224149987} \n"
     ]
    }
   ],
   "source": [
    "parser = Parser()\n",
    "gen = Genetic(num_monkeys=50, monkey_window_size=25, num_keep=2, num_iter=20)\n",
    "\n",
    "import random\n",
    "random.seed(6)\n",
    "\n",
    "pool = parser.get_pool(n=4)\n",
    "\n",
    "out = gen.run_pool(pool)"
   ]
  },
  {
   "cell_type": "code",
   "execution_count": 83,
   "metadata": {},
   "outputs": [
    {
     "data": {
      "text/plain": [
       "[[0.984209584472732,\n",
       "  0.13326307739599874,\n",
       "  0.28882665136358304,\n",
       "  0.21833446785218963,\n",
       "  0.14879958454800973,\n",
       "  -0.5536339842308865,\n",
       "  0.021692942611509114,\n",
       "  0.9696215958851004,\n",
       "  1.1968080222317428,\n",
       "  0.1641274401313576,\n",
       "  -0.4216368260960676,\n",
       "  0.43837872918792703,\n",
       "  0.6941103641661699,\n",
       "  0.38783133606651266,\n",
       "  1.290392616782632,\n",
       "  0.9896578546605123,\n",
       "  0.3172850775008966,\n",
       "  0.8709074657437441,\n",
       "  0.6069435676824189,\n",
       "  0.18171929566987344,\n",
       "  0.03694132733160593,\n",
       "  1.3924070602934524,\n",
       "  1.1104767305851053,\n",
       "  -0.26877422995723177,\n",
       "  0.5030065974685844,\n",
       "  0.7865466318153205],\n",
       " [0.6151960774485615,\n",
       "  1.0653141490696325,\n",
       "  0.49979496645828847,\n",
       "  1.0777885462477812,\n",
       "  0.4706313085422352,\n",
       "  1.2218800701793329,\n",
       "  0.6713701210821459,\n",
       "  1.086035132660713,\n",
       "  0.9485313010149792,\n",
       "  0.9329295456166706,\n",
       "  -0.21677565255937253,\n",
       "  0.23248079862331417,\n",
       "  0.1400918912512748,\n",
       "  0.270916550861585,\n",
       "  0.6406347068342111,\n",
       "  0.5401203277937483,\n",
       "  -0.336248522438275,\n",
       "  -0.44496964509176373,\n",
       "  0.5114774835758458,\n",
       "  -0.023703278074083456,\n",
       "  0.5248100958362119,\n",
       "  -0.0237682117714495,\n",
       "  0.7441720362971358,\n",
       "  -0.2812301942216256,\n",
       "  1.3775028087940042,\n",
       "  0.2683899699185406],\n",
       " [0.9335902316217963,\n",
       "  0.38369785384995736,\n",
       "  0.6631160720285154,\n",
       "  0.4700924332271823,\n",
       "  0.8658050834485511,\n",
       "  1.114853815639527,\n",
       "  -0.14216409824089343,\n",
       "  0.8726097946037582,\n",
       "  0.41017393218430986,\n",
       "  -0.020078615254665866,\n",
       "  0.010938402701494487,\n",
       "  0.5666830569257786,\n",
       "  0.2898057232699577,\n",
       "  0.5083260330014969,\n",
       "  -0.7193188019974615,\n",
       "  0.1649705750708046,\n",
       "  -0.18132490842695476,\n",
       "  -0.023455763895179116,\n",
       "  -0.1192202864221727,\n",
       "  0.3947245886623248,\n",
       "  0.14240235982211846,\n",
       "  0.31736256514798694,\n",
       "  0.48720113622899136,\n",
       "  0.709163918983702,\n",
       "  0.6478185034270058,\n",
       "  0.5782899463391473]]"
      ]
     },
     "execution_count": 83,
     "metadata": {},
     "output_type": "execute_result"
    }
   ],
   "source": [
    "monkey = gen.monkeys[0]\n",
    "monkey.weights"
   ]
  },
  {
   "cell_type": "code",
   "execution_count": 85,
   "metadata": {},
   "outputs": [
    {
     "data": {
      "text/plain": [
       "201.18897820022949"
      ]
     },
     "execution_count": 85,
     "metadata": {},
     "output_type": "execute_result"
    }
   ],
   "source": [
    "apple = parser.get(\"AAPL\")\n",
    "\n",
    "# this shows the returns the best monkey has from trading apple stock\n",
    "monkey.trade(apple)"
   ]
  },
  {
   "cell_type": "code",
   "execution_count": 89,
   "metadata": {},
   "outputs": [
    {
     "name": "stdout",
     "output_type": "stream",
     "text": [
      "chosen: ['IR', 'EA', 'ALL', 'KIM', 'KR', 'NOC', 'YUM', 'COO', 'USB', 'TRIP', 'VRSK', 'ESS', 'SLB', 'HIG', 'NVDA', 'NWL', 'TAP', 'KMB', 'CELG', 'MLM']\n"
     ]
    },
    {
     "data": {
      "text/plain": [
       "{'IR': 156.06035755456332,\n",
       " 'EA': 306.7452791589,\n",
       " 'ALL': 118.30296608955004,\n",
       " 'KIM': 66.40100332005001,\n",
       " 'KR': 253.80626227462506,\n",
       " 'NOC': 186.21670649999996,\n",
       " 'YUM': 106.41683784773132,\n",
       " 'COO': 348.2694805029,\n",
       " 'USB': 96.18227999999998,\n",
       " 'TRIP': -10.755550089599996,\n",
       " 'VRSK': 138.50992660890003,\n",
       " 'ESS': 138.24984112240003,\n",
       " 'SLB': 3.5912812320000027,\n",
       " 'HIG': 68.80767400000002,\n",
       " 'NVDA': 790.3271185799498,\n",
       " 'NWL': 164.73225294375,\n",
       " 'TAP': 111.80322541129999,\n",
       " 'KMB': 13.096950327312294,\n",
       " 'CELG': 254.59183295399998,\n",
       " 'MLM': 144.3233118227}"
      ]
     },
     "execution_count": 89,
     "metadata": {},
     "output_type": "execute_result"
    }
   ],
   "source": [
    "pool = parser.get_pool(n=20)\n",
    "pool = {k:monkey.trade(df) for k,df in pool.items()}\n",
    "# this shows the returns that the best monkey has made from trading the list of stocks stated below\n",
    "pool"
   ]
  },
  {
   "cell_type": "markdown",
   "metadata": {},
   "source": [
    "### Concluding statement\n",
    "\n",
    "After exploring the 2 models we have identified in greater depths, we believe that the models would defintely be of value to investors to identify the general trends in stocks price movement. However, even in model with high accuracy, a single mistake made by the various models could prove as a costly mistake to investors. Hence, investors should continue to exercise careful judgement while evaluating which stocks to invest in.\n",
    "\n",
    "This project also identify the potential drawbacks from the latest trending way of investing, robo-advisory platforms. Algorithms can fail us at some point and hence it is still important for the human touch and analysis investing to hedge against any potential fall in your investment portfolio."
   ]
  }
 ],
 "metadata": {
  "kernelspec": {
   "display_name": "Python 3",
   "language": "python",
   "name": "python3"
  },
  "language_info": {
   "codemirror_mode": {
    "name": "ipython",
    "version": 3
   },
   "file_extension": ".py",
   "mimetype": "text/x-python",
   "name": "python",
   "nbconvert_exporter": "python",
   "pygments_lexer": "ipython3",
   "version": "3.7.4"
  }
 },
 "nbformat": 4,
 "nbformat_minor": 4
}
